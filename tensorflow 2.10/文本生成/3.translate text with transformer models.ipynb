{
 "cells": [
  {
   "cell_type": "code",
   "execution_count": 1,
   "id": "f6b75f7d",
   "metadata": {},
   "outputs": [
    {
     "name": "stderr",
     "output_type": "stream",
     "text": [
      "D:\\anaconda\\envs\\tf-gpu-2.10.0-py-3.10\\lib\\site-packages\\numpy\\_distributor_init.py:30: UserWarning: loaded more than 1 DLL from .libs:\n",
      "D:\\anaconda\\envs\\tf-gpu-2.10.0-py-3.10\\lib\\site-packages\\numpy\\.libs\\libopenblas.FB5AE2TYXYH2IJRDKGDGQ3XBKLKTF43H.gfortran-win_amd64.dll\n",
      "D:\\anaconda\\envs\\tf-gpu-2.10.0-py-3.10\\lib\\site-packages\\numpy\\.libs\\libopenblas64__v0.3.23-246-g3d31191b-gcc_10_3_0.dll\n",
      "  warnings.warn(\"loaded more than 1 DLL from .libs:\"\n"
     ]
    }
   ],
   "source": [
    "import numpy as np\n",
    "import einops\n",
    "import tensorflow as tf\n",
    "import tensorflow_text as tf_text\n",
    "import tensorflow as tf\n",
    "gpu_list = tf.config.experimental.list_physical_devices('GPU')\n",
    "if len(gpu_list) > 0:\n",
    "    for gpu in gpu_list:\n",
    "        try:\n",
    "            tf.config.experimental.set_memory_growth(gpu, True)\n",
    "        except RuntimeError as e:\n",
    "            print(e) \n",
    "else:\n",
    "    print(\"Got no gpus\")"
   ]
  },
  {
   "cell_type": "code",
   "execution_count": 2,
   "id": "5e77d7a9",
   "metadata": {},
   "outputs": [
    {
     "name": "stderr",
     "output_type": "stream",
     "text": [
      "D:\\anaconda\\envs\\tf-gpu-2.10.0-py-3.10\\lib\\site-packages\\tqdm\\auto.py:21: TqdmWarning: IProgress not found. Please update jupyter and ipywidgets. See https://ipywidgets.readthedocs.io/en/stable/user_install.html\n",
      "  from .autonotebook import tqdm as notebook_tqdm\n"
     ]
    }
   ],
   "source": [
    "import logging\n",
    "import time\n",
    "import numpy as np\n",
    "import matplotlib.pyplot as plt\n",
    "import tensorflow_datasets as tfds\n",
    "import tensorflow as tf\n",
    "import tensorflow_text"
   ]
  },
  {
   "cell_type": "code",
   "execution_count": null,
   "id": "c10b8ccd",
   "metadata": {},
   "outputs": [],
   "source": []
  },
  {
   "cell_type": "code",
   "execution_count": 3,
   "id": "65d65cda",
   "metadata": {
    "scrolled": true
   },
   "outputs": [
    {
     "name": "stdout",
     "output_type": "stream",
     "text": [
      "tf.Tensor(\n",
      "[[   2  120   85  979  103   95 4160   16    3    0    0    0    0    0\n",
      "     0    0    0    0    0    0    0    0    0    0    0    0    0    0\n",
      "     0    0    0    0    0    0    0    0    0    0    0    0    0    0\n",
      "     0    0    0    0    0    0    0    0    0    0    0    0    0    0\n",
      "     0    0    0    0    0    0    0    0    0    0    0    0    0    0\n",
      "     0    0    0]], shape=(1, 73), dtype=int64)\n",
      "tf.Tensor(\n",
      "[[   2   96   80   37  622   74 3456 3921   15    0    0    0    0    0\n",
      "     0    0    0    0    0    0    0    0    0    0    0    0    0    0\n",
      "     0    0    0    0    0    0    0    0    0    0    0    0    0    0\n",
      "     0    0    0    0    0    0    0    0    0    0    0    0    0    0\n",
      "     0    0    0    0    0    0    0    0    0    0    0    0    0    0\n",
      "     0    0    0    0    0    0    0    0    0    0    0]], shape=(1, 81), dtype=int64)\n",
      "tf.Tensor(\n",
      "[[  96   80   37  622   74 3456 3921   15    3    0    0    0    0    0\n",
      "     0    0    0    0    0    0    0    0    0    0    0    0    0    0\n",
      "     0    0    0    0    0    0    0    0    0    0    0    0    0    0\n",
      "     0    0    0    0    0    0    0    0    0    0    0    0    0    0\n",
      "     0    0    0    0    0    0    0    0    0    0    0    0    0    0\n",
      "     0    0    0    0    0    0    0    0    0    0    0]], shape=(1, 81), dtype=int64)\n"
     ]
    }
   ],
   "source": [
    "MAX_TOKENS=128\n",
    "BUFFER_SIZE = 20000\n",
    "BATCH_SIZE = 64\n",
    "examples, metadata = tfds.load('ted_hrlr_translate/pt_to_en',  with_info=True, as_supervised=True)\n",
    "train_examples, val_examples = examples['train'], examples['validation']\n",
    "model_name = 'ted_hrlr_translate_pt_en_converter'\n",
    "tf.keras.utils.get_file(f'{model_name}.zip', f'https://storage.googleapis.com/download.tensorflow.org/models/{model_name}.zip', cache_dir='.', cache_subdir='', extract=True )\n",
    "tokenizers = tf.saved_model.load(model_name)\n",
    "\n",
    "def prepare_batch(pt, en):\n",
    "    pt = tokenizers.pt.tokenize(pt)\n",
    "    pt = pt[:, :MAX_TOKENS].to_tensor()\n",
    "    en = tokenizers.en.tokenize(en)\n",
    "    en = en[:, :MAX_TOKENS+1]\n",
    "    en_inputs = en[:,:-1].to_tensor()\n",
    "    en_labels = en[:, 1:].to_tensor()\n",
    "    return (pt, en_inputs), en_labels\n",
    "\n",
    "train_batches =  train_examples.shuffle(BUFFER_SIZE).batch(BATCH_SIZE).map(prepare_batch, tf.data.AUTOTUNE).prefetch(buffer_size=tf.data.AUTOTUNE)\n",
    "val_batches =  val_examples.shuffle(BUFFER_SIZE).batch(BATCH_SIZE).map(prepare_batch, tf.data.AUTOTUNE).prefetch(buffer_size=tf.data.AUTOTUNE)\n",
    "for (e,i),o in train_batches.take(1):\n",
    "    print(e[:1])\n",
    "    print(i[:1])\n",
    "    print(o[:1])"
   ]
  },
  {
   "attachments": {
    "image.png": {
     "image/png": "[encoded data removed]"
    }
   },
   "cell_type": "markdown",
   "id": "031c6470",
   "metadata": {},
   "source": [
    "![image.png](attachment:image.png)"
   ]
  },
  {
   "cell_type": "code",
   "execution_count": 4,
   "id": "f238b5c8",
   "metadata": {},
   "outputs": [],
   "source": [
    "def positional_encoding(length, depth):\n",
    "    depth = depth / 2\n",
    "    positions = np.arange(length)[:, np.newaxis]   # 位置 (length, 1)\n",
    "    depths = np.arange(depth)[np.newaxis, :] / depth   # 深度 (1, depth)\n",
    "    angle_rates = 1 / (10000 ** depths)\n",
    "    angle_rads = positions * angle_rates\n",
    "    pos_encoding = np.concatenate([np.sin(angle_rads), np.cos(angle_rads)], axis=-1)\n",
    "#     pos_encoding = np.zeros((length, depth * 2))\n",
    "#     pos_encoding[:, 0::2] = np.sin(angle_rads)  # 2i: 偶数位置\n",
    "#     pos_encoding[:, 1::2] = np.cos(angle_rads)  # 2i+1: 奇数位置\n",
    "    return tf.cast(pos_encoding, dtype=tf.float32)\n",
    "\n",
    "class PositionEmbedding(tf.keras.layers.Layer):\n",
    "    def __init__(self, vocab_size, d_model):\n",
    "        super().__init__()\n",
    "        self.d_model = d_model\n",
    "        self.embedding = tf.keras.layers.Embedding(vocab_size, d_model, mask_zero=True)\n",
    "        self.pos_encoding = positional_encoding(length=2048, depth=d_model)\n",
    "    \n",
    "    def compute_mask(self, *args, **kwargs):\n",
    "        return self.embedding.compute_mask(*args, **kwargs)\n",
    "\n",
    "    def call(self, x):\n",
    "        length = tf.shape(x)[1]\n",
    "        x = self.embedding(x)\n",
    "        x *= tf.math.sqrt(tf.cast(self.d_model, tf.float32))\n",
    "        x = x + self.pos_encoding[tf.newaxis, : length, :]\n",
    "        return x"
   ]
  },
  {
   "cell_type": "code",
   "execution_count": null,
   "id": "982e7a48",
   "metadata": {},
   "outputs": [],
   "source": []
  },
  {
   "cell_type": "code",
   "execution_count": null,
   "id": "d497265d",
   "metadata": {},
   "outputs": [],
   "source": []
  },
  {
   "cell_type": "code",
   "execution_count": 5,
   "id": "8ae06de0",
   "metadata": {},
   "outputs": [],
   "source": [
    "class BaseAttention(tf.keras.layers.Layer):\n",
    "    def __init__(self, **kwargs):\n",
    "        super().__init__()\n",
    "        self.mha = tf.keras.layers.MultiHeadAttention(**kwargs)\n",
    "        self.layernorm = tf.keras.layers.LayerNormalization()\n",
    "        self.add = tf.keras.layers.Add()\n",
    "\n",
    "class CrossAttention(BaseAttention):\n",
    "    def call(self, x, context):\n",
    "        attn_output, attn_scores = self.mha(query=x, key=context, value=context, return_attention_scores=True)\n",
    "        self.last_attn_scores = attn_scores\n",
    "        x = self.add([x, attn_output])\n",
    "        x = self.layernorm(x)\n",
    "        return x\n",
    "    \n",
    "class GlobalSelfAttention(BaseAttention):\n",
    "    def call(self, x):\n",
    "        attn_output = self.mha(query=x, value=x, key=x)\n",
    "        x = self.add([x, attn_output])\n",
    "        x = self.layernorm(x)\n",
    "        return x\n",
    "\n",
    "class CausalSelfAttention(BaseAttention):\n",
    "    def call(self, x):\n",
    "        attn_output = self.mha(query=x, value=x, key=x, use_causal_mask=True)\n",
    "        x = self.add([x, attn_output])\n",
    "        x = self.layernorm(x)\n",
    "        return x\n",
    "\n",
    "class FeedForward(tf.keras.layers.Layer):\n",
    "    def __init__(self, d_model, dff, dropout_rate=0.1):\n",
    "        super().__init__()\n",
    "        self.seq = tf.keras.Sequential([\n",
    "            tf.keras.layers.Dense(dff, activation='relu'),\n",
    "            tf.keras.layers.Dense(d_model),\n",
    "            tf.keras.layers.Dropout(dropout_rate)\n",
    "        ])\n",
    "        self.add = tf.keras.layers.Add()\n",
    "        self.layer_norm = tf.keras.layers.LayerNormalization()\n",
    "    \n",
    "    def call(self, x):\n",
    "        x = self.add([x, self.seq(x)])\n",
    "        x = self.layer_norm(x)\n",
    "        return x"
   ]
  },
  {
   "cell_type": "code",
   "execution_count": 6,
   "id": "5357324e",
   "metadata": {},
   "outputs": [],
   "source": [
    "class EncoderLayer(tf.keras.layers.Layer):\n",
    "    def __init__(self, *, d_model, num_heads, dff, dropout_rate=0.1):\n",
    "        super().__init__()\n",
    "        self.self_attention = GlobalSelfAttention(num_heads=num_heads, key_dim=d_model, dropout=dropout_rate)\n",
    "        self.ffn = FeedForward(d_model, dff)\n",
    "    \n",
    "    def call(self, x):\n",
    "        x = self.self_attention(x)\n",
    "        x = self.ffn(x)\n",
    "        return x\n",
    "class Encoder(tf.keras.layers.Layer):\n",
    "    def __init__(self, *, num_layers, d_model, num_heads, dff, vocab_size, dropout_rate=0.1):\n",
    "        super().__init__()\n",
    "        self.d_model = d_model\n",
    "        self.num_layers = num_layers\n",
    "        self.pos_embedding = PositionEmbedding(vocab_size=vocab_size, d_model=d_model)\n",
    "        self.enc_layers = [EncoderLayer(d_model=d_model, num_heads=num_heads, dff=dff, dropout_rate=dropout_rate) for _ in range(num_layers)]\n",
    "        self.dropout = tf.keras.layers.Dropout(dropout_rate)\n",
    "    \n",
    "    def call(self, x):\n",
    "        x =self.pos_embedding(x)\n",
    "        x = self.dropout(x)\n",
    "        for i in range(self.num_layers):\n",
    "            x = self.enc_layers[i](x)\n",
    "        return x"
   ]
  },
  {
   "cell_type": "code",
   "execution_count": 7,
   "id": "8e90c2e2",
   "metadata": {},
   "outputs": [],
   "source": [
    "class DecoderLayer(tf.keras.layers.Layer):\n",
    "    def __init__(self, *, d_model, num_heads, dff, dropout_rate=0.1):\n",
    "        super(DecoderLayer, self).__init__()\n",
    "        self.causal_self_attention = CausalSelfAttention(num_heads=num_heads, key_dim=d_model, dropout=dropout_rate)\n",
    "        self.cross_attention = CrossAttention(num_heads=num_heads, key_dim=d_model, dropout=dropout_rate)\n",
    "        self.ffn = FeedForward(d_model, dff)\n",
    "        \n",
    "    def call(self, x, context):\n",
    "        x = self.causal_self_attention(x)\n",
    "        x = self.cross_attention(x=x, context=context)\n",
    "        self.last_attn_scores = self.cross_attention.last_attn_scores\n",
    "        x = self.ffn(x)\n",
    "        return x\n",
    "\n",
    "class Decoder(tf.keras.layers.Layer):\n",
    "    def __init__(self, *, num_layers, d_model, num_heads, dff, vocab_size, dropout_rate=0.1):\n",
    "        super(Decoder, self).__init__()\n",
    "        self.d_model = d_model\n",
    "        self.num_layers = num_layers\n",
    "        self.pos_embedding = PositionEmbedding(vocab_size=vocab_size, d_model=d_model)\n",
    "        self.dropout = tf.keras.layers.Dropout(dropout_rate)\n",
    "        self.dec_layers = [DecoderLayer(d_model=d_model, num_heads=num_heads, dff=dff, dropout_rate=dropout_rate) for _ in range(num_layers)]\n",
    "        self.last_attn_scores = None\n",
    "    \n",
    "    def call(self, x, context):\n",
    "        x = self.pos_embedding(x)\n",
    "        x = self.dropout(x)\n",
    "        for i in range(self.num_layers):\n",
    "            x = self.dec_layers[i](x, context)\n",
    "        self.last_attn_scores = self.dec_layers[-1].last_attn_scores\n",
    "        return x"
   ]
  },
  {
   "cell_type": "code",
   "execution_count": 8,
   "id": "6c78d835",
   "metadata": {
    "scrolled": true
   },
   "outputs": [
    {
     "data": {
      "text/plain": [
       "<tf.Tensor: shape=(3, 15, 512), dtype=float32, numpy=\n",
       "array([[[ 0.74893034, -1.6052595 , -0.3994048 , ...,  1.963297  ,\n",
       "         -1.6808728 , -0.13937518],\n",
       "        [ 1.8466887 , -0.85400987,  0.5228292 , ...,  2.0004137 ,\n",
       "         -1.6961007 , -0.1371011 ],\n",
       "        [ 1.9615678 , -0.69911665,  0.7384652 , ...,  2.06872   ,\n",
       "         -1.4438744 , -0.09579261],\n",
       "        ...,\n",
       "        [ 0.37530485, -2.0800292 , -0.79535043, ...,  2.203009  ,\n",
       "         -0.92917895,  0.27189368],\n",
       "        [ 1.3792925 , -1.4013275 , -0.23600182, ...,  2.1121204 ,\n",
       "         -0.8000585 ,  0.28068957],\n",
       "        [ 1.8966008 , -0.7115123 ,  0.66725963, ...,  1.950827  ,\n",
       "         -0.8372355 ,  0.20123897]],\n",
       "\n",
       "       [[ 0.74893034, -1.6052595 , -0.3994048 , ...,  1.963297  ,\n",
       "         -1.6808728 , -0.13937518],\n",
       "        [ 1.8466887 , -0.85400987,  0.5228292 , ...,  2.0004137 ,\n",
       "         -1.6961007 , -0.1371011 ],\n",
       "        [ 1.9615678 , -0.69911665,  0.7384652 , ...,  2.06872   ,\n",
       "         -1.4438744 , -0.09579261],\n",
       "        ...,\n",
       "        [ 0.37530485, -2.0800292 , -0.79535043, ...,  2.203009  ,\n",
       "         -0.92917895,  0.27189368],\n",
       "        [ 1.3792925 , -1.4013275 , -0.23600182, ...,  2.1121204 ,\n",
       "         -0.8000585 ,  0.28068957],\n",
       "        [ 1.8966008 , -0.7115123 ,  0.66725963, ...,  1.950827  ,\n",
       "         -0.8372355 ,  0.20123897]],\n",
       "\n",
       "       [[ 0.74893034, -1.6052595 , -0.3994048 , ...,  1.963297  ,\n",
       "         -1.6808728 , -0.13937518],\n",
       "        [ 1.8466887 , -0.85400987,  0.5228292 , ...,  2.0004137 ,\n",
       "         -1.6961007 , -0.1371011 ],\n",
       "        [ 1.9615678 , -0.69911665,  0.7384652 , ...,  2.06872   ,\n",
       "         -1.4438744 , -0.09579261],\n",
       "        ...,\n",
       "        [ 0.37530485, -2.0800292 , -0.79535043, ...,  2.203009  ,\n",
       "         -0.92917895,  0.27189368],\n",
       "        [ 1.3792925 , -1.4013275 , -0.23600182, ...,  2.1121204 ,\n",
       "         -0.8000585 ,  0.28068957],\n",
       "        [ 1.8966008 , -0.7115123 ,  0.66725963, ...,  1.950827  ,\n",
       "         -0.8372355 ,  0.20123897]]], dtype=float32)>"
      ]
     },
     "execution_count": 8,
     "metadata": {},
     "output_type": "execute_result"
    }
   ],
   "source": [
    "decoder = Decoder(num_heads=1, num_layers=1, d_model=512, dff=2048, vocab_size=tokenizers.en.get_vocab_size())\n",
    "context=tf.constant(shape=(3,10,256), value=1.)\n",
    "x = tf.constant(shape=(3,15), value=1.)\n",
    "decoder(x, context)"
   ]
  },
  {
   "cell_type": "code",
   "execution_count": 9,
   "id": "72a10885",
   "metadata": {},
   "outputs": [],
   "source": [
    "class Transformer(tf.keras.Model):\n",
    "    def __init__(self, *, num_layers, d_model, num_heads, dff, input_vocab_size, target_vocab_size, dropout_rate=0.1):\n",
    "        super().__init__()\n",
    "        self.encoder = Encoder(num_layers=num_layers, d_model=d_model, num_heads=num_heads, dff=dff, vocab_size=input_vocab_size, dropout_rate=dropout_rate)\n",
    "        self.decoder = Decoder(num_layers=num_layers, d_model=d_model, num_heads=num_heads, dff=dff, vocab_size=target_vocab_size, dropout_rate=dropout_rate)\n",
    "        self.final_layer = tf.keras.layers.Dense(target_vocab_size)\n",
    "    \n",
    "    def call(self, inputs):\n",
    "        context, x = inputs\n",
    "        context = self.encoder(context)\n",
    "        x = self.decoder(x , context)\n",
    "        logits = self.final_layer(x)\n",
    "        try:\n",
    "            del logits._keras_mask\n",
    "        except AttributeError:\n",
    "            pass\n",
    "        return logits\n",
    "    \n",
    "num_layers = 4\n",
    "d_model = 128\n",
    "dff = 512\n",
    "num_heads = 8\n",
    "dropout_rate = 0.1\n",
    "transformer = Transformer(num_layers=num_layers, d_model=d_model, num_heads=num_heads, dff=dff,input_vocab_size=tokenizers.pt.get_vocab_size().numpy(), target_vocab_size=tokenizers.en.get_vocab_size(), dropout_rate=dropout_rate)"
   ]
  },
  {
   "cell_type": "code",
   "execution_count": 10,
   "id": "96adfdaf",
   "metadata": {
    "scrolled": true
   },
   "outputs": [
    {
     "name": "stdout",
     "output_type": "stream",
     "text": [
      "Epoch 1/20\n",
      "810/810 [==============================] - 39s 43ms/step - loss: 6.5996 - masked_accuracy: 0.1469 - val_loss: 5.0464 - val_masked_accuracy: 0.2479\n",
      "Epoch 2/20\n",
      "810/810 [==============================] - 55s 67ms/step - loss: 4.5725 - masked_accuracy: 0.2976 - val_loss: 4.0441 - val_masked_accuracy: 0.3606\n",
      "Epoch 3/20\n",
      "810/810 [==============================] - 45s 56ms/step - loss: 3.8208 - masked_accuracy: 0.3799 - val_loss: 3.4296 - val_masked_accuracy: 0.4349\n",
      "Epoch 4/20\n",
      "810/810 [==============================] - 33s 41ms/step - loss: 3.2628 - masked_accuracy: 0.4421 - val_loss: 3.0187 - val_masked_accuracy: 0.4844\n",
      "Epoch 5/20\n",
      "810/810 [==============================] - 35s 43ms/step - loss: 2.8651 - masked_accuracy: 0.4871 - val_loss: 2.7249 - val_masked_accuracy: 0.5195\n",
      "Epoch 6/20\n",
      "810/810 [==============================] - 32s 40ms/step - loss: 2.5505 - masked_accuracy: 0.5261 - val_loss: 2.4583 - val_masked_accuracy: 0.5528\n",
      "Epoch 7/20\n",
      "810/810 [==============================] - 43s 53ms/step - loss: 2.2867 - masked_accuracy: 0.5598 - val_loss: 2.3265 - val_masked_accuracy: 0.5736\n",
      "Epoch 8/20\n",
      "810/810 [==============================] - 58s 72ms/step - loss: 2.0992 - masked_accuracy: 0.5849 - val_loss: 2.2397 - val_masked_accuracy: 0.5868\n",
      "Epoch 9/20\n",
      "810/810 [==============================] - 59s 72ms/step - loss: 1.9478 - masked_accuracy: 0.6059 - val_loss: 2.1879 - val_masked_accuracy: 0.5976\n",
      "Epoch 10/20\n",
      "810/810 [==============================] - 49s 60ms/step - loss: 1.8316 - masked_accuracy: 0.6233 - val_loss: 2.1195 - val_masked_accuracy: 0.6071\n",
      "Epoch 11/20\n",
      "810/810 [==============================] - 33s 41ms/step - loss: 1.7360 - masked_accuracy: 0.6370 - val_loss: 2.1123 - val_masked_accuracy: 0.6145\n",
      "Epoch 12/20\n",
      "810/810 [==============================] - 33s 40ms/step - loss: 1.6558 - masked_accuracy: 0.6488 - val_loss: 2.0967 - val_masked_accuracy: 0.6142\n",
      "Epoch 13/20\n",
      "810/810 [==============================] - 33s 41ms/step - loss: 1.5808 - masked_accuracy: 0.6599 - val_loss: 2.0620 - val_masked_accuracy: 0.6217\n",
      "Epoch 14/20\n",
      "810/810 [==============================] - 55s 68ms/step - loss: 1.5184 - masked_accuracy: 0.6701 - val_loss: 2.0440 - val_masked_accuracy: 0.6241\n",
      "Epoch 15/20\n",
      "810/810 [==============================] - 58s 72ms/step - loss: 1.4626 - masked_accuracy: 0.6783 - val_loss: 2.0348 - val_masked_accuracy: 0.6265\n",
      "Epoch 16/20\n",
      "810/810 [==============================] - 37s 46ms/step - loss: 1.4120 - masked_accuracy: 0.6859 - val_loss: 2.0390 - val_masked_accuracy: 0.6281\n",
      "Epoch 17/20\n",
      "810/810 [==============================] - 33s 41ms/step - loss: 1.3691 - masked_accuracy: 0.6929 - val_loss: 2.0426 - val_masked_accuracy: 0.6277\n",
      "Epoch 18/20\n",
      "810/810 [==============================] - 33s 40ms/step - loss: 1.3265 - masked_accuracy: 0.6998 - val_loss: 2.0591 - val_masked_accuracy: 0.6268\n",
      "Epoch 19/20\n",
      "810/810 [==============================] - 33s 40ms/step - loss: 1.2852 - masked_accuracy: 0.7061 - val_loss: 2.0646 - val_masked_accuracy: 0.6319\n",
      "Epoch 20/20\n",
      "810/810 [==============================] - 32s 40ms/step - loss: 1.2509 - masked_accuracy: 0.7126 - val_loss: 2.0662 - val_masked_accuracy: 0.6316\n"
     ]
    },
    {
     "data": {
      "text/plain": [
       "<keras.callbacks.History at 0x250140e14e0>"
      ]
     },
     "execution_count": 10,
     "metadata": {},
     "output_type": "execute_result"
    }
   ],
   "source": [
    "class CustomSchedule(tf.keras.optimizers.schedules.LearningRateSchedule):\n",
    "    def __init__(self, d_model, warmup_steps=4000):\n",
    "        super().__init__()\n",
    "        self.d_model = d_model\n",
    "        self.d_model = tf.cast(self.d_model, tf.float32)\n",
    "        self.warmup_steps = warmup_steps\n",
    "    \n",
    "    def __call__(self, step):\n",
    "        step = tf.cast(step, dtype=tf.float32)\n",
    "        arg1 = tf.math.rsqrt(step)\n",
    "        arg2 = step * (self.warmup_steps ** -1.5)\n",
    "        return tf.math.rsqrt(self.d_model) * tf.math.minimum(arg1, arg2)\n",
    "\n",
    "\n",
    "def masked_loss(label, pred):\n",
    "    mask = label != 0\n",
    "    loss_object = tf.keras.losses.SparseCategoricalCrossentropy(from_logits=True, reduction='none')\n",
    "    loss = loss_object(label, pred)\n",
    "    mask = tf.cast(mask, dtype=loss.dtype)\n",
    "    loss *= mask\n",
    "    loss = tf.reduce_sum(loss) / tf.reduce_sum(mask)\n",
    "    return loss\n",
    "\n",
    "def masked_accuracy(label, pred):\n",
    "    pred = tf.argmax(pred, axis=2)\n",
    "    label = tf.cast(label, pred.dtype)\n",
    "    match = label == pred\n",
    "    mask = label != 0\n",
    "    match = match & mask\n",
    "    match = tf.cast(match, dtype=tf.float32)\n",
    "    mask = tf.cast(mask, dtype=tf.float32)\n",
    "    return tf.reduce_sum(match) / tf.reduce_sum(mask)\n",
    "\n",
    "\n",
    "learning_rate = CustomSchedule(d_model)\n",
    "optimizer = tf.keras.optimizers.Adam(learning_rate, beta_1 = 0.9, beta_2=0.98, epsilon=1e-9)\n",
    "transformer.compile(loss = masked_loss, optimizer=optimizer, metrics=[masked_accuracy])\n",
    "transformer.fit(train_batches, epochs=20, validation_data=val_batches)"
   ]
  },
  {
   "cell_type": "code",
   "execution_count": 11,
   "id": "0d4890cc",
   "metadata": {},
   "outputs": [],
   "source": [
    "class Translator(tf.Module):\n",
    "    def __init__(self, tokenizers, transformer):\n",
    "        self.tokenizers = tokenizers\n",
    "        self.transformer = transformer\n",
    "    \n",
    "    def __call__(self, sentence, max_length=MAX_TOKENS):\n",
    "        assert isinstance(sentence, tf.Tensor)\n",
    "        if len(sentence.shape) == 0:\n",
    "            sentence = sentence[tf.newaxis]\n",
    "        sentence = self.tokenizers.pt.tokenize(sentence).to_tensor()\n",
    "        encoder_input = sentence\n",
    "        start_end = self.tokenizers.en.tokenize([''])[0]\n",
    "        start = start_end[0][tf.newaxis]\n",
    "        end = start_end[1][tf.newaxis]\n",
    "        output_array = tf.TensorArray(dtype=tf.int64, size=0, dynamic_size=True)\n",
    "        output_array = output_array.write(0 , start)\n",
    "        for i in tf.range(max_length):\n",
    "            output = tf.transpose(output_array.stack())\n",
    "            predictions = self.transformer([encoder_input, output], training=False)\n",
    "            predictions = predictions[:, -1:, :]\n",
    "            predicted_id = tf.argmax(predictions, axis=-1)\n",
    "            output_array = output_array.write(i+1, predicted_id[0])\n",
    "            if predicted_id == end:\n",
    "                break\n",
    "        output = tf.transpose(output_array.stack())\n",
    "        text = tokenizers.en.detokenize(output)[0]\n",
    "        tokens = tokenizers.en.lookup(output)[0]\n",
    "        self.transformer([encoder_input, output[:, :-1]], training=False)\n",
    "        attention_weights = self.transformer.decoder.last_attn_scores\n",
    "        return text, tokens, attention_weights"
   ]
  },
  {
   "cell_type": "code",
   "execution_count": 12,
   "id": "35ade72a",
   "metadata": {
    "scrolled": true
   },
   "outputs": [
    {
     "name": "stdout",
     "output_type": "stream",
     "text": [
      "Input:         : este é um problema que temos que resolver.\n",
      "Prediction     : this is a problem that we have to solve .\n",
      "Ground truth   : this is a problem we have to solve .\n"
     ]
    }
   ],
   "source": [
    "translator = Translator(tokenizers, transformer)\n",
    "def print_translation(sentence, tokens, ground_truth):\n",
    "    print(f'{\"Input:\":15s}: {sentence}')\n",
    "    print(f'{\"Prediction\":15s}: {tokens.numpy().decode(\"utf-8\")}')\n",
    "    print(f'{\"Ground truth\":15s}: {ground_truth}')\n",
    "    \n",
    "sentence = 'este é um problema que temos que resolver.'\n",
    "ground_truth = 'this is a problem we have to solve .'\n",
    "\n",
    "translated_text, translated_tokens, attention_weights = translator(tf.constant(sentence))\n",
    "print_translation(sentence, translated_text, ground_truth)"
   ]
  },
  {
   "cell_type": "code",
   "execution_count": 13,
   "id": "3626ff3f",
   "metadata": {},
   "outputs": [],
   "source": [
    "class Translators(tf.Module):\n",
    "    def __init__(self, tokenizers, transformer):\n",
    "        self.tokenizers = tokenizers\n",
    "        self.transformer = transformer\n",
    "    \n",
    "    def __call__(self, sentences, max_length=MAX_TOKENS):\n",
    "        assert isinstance(sentences, tf.Tensor)\n",
    "        batch_size = tf.shape(sentences)[0]\n",
    "        sentences = self.tokenizers.pt.tokenize(sentences).to_tensor()\n",
    "        encoder_input = sentences\n",
    "        start_end = self.tokenizers.en.tokenize([''])[0]\n",
    "        start = tf.fill([batch_size, 1], start_end[0])\n",
    "        end = start_end[1]\n",
    "        done = tf.zeros([batch_size, 1], dtype=tf.bool)\n",
    "        output_array = tf.TensorArray(dtype=tf.int64, size=0, dynamic_size=True)\n",
    "        output_array = output_array.write(0, start)\n",
    "        for i in tf.range(max_length):\n",
    "            output = tf.transpose(output_array.stack(), perm=[1, 0, 2])\n",
    "            predictions = self.transformer([encoder_input, tf.squeeze(output, axis=-1)], training=False)  # [B,1,V]\n",
    "            predictions = predictions[:, -1:, :]\n",
    "            predicted_id = tf.argmax(predictions, axis=-1)\n",
    "            done |= predicted_id == end\n",
    "            predicted_id = tf.where(done, tf.constant(0, dtype=tf.int64), predicted_id)  # [B, 1]\n",
    "            output_array = output_array.write(i+1, predicted_id)\n",
    "            if tf.reduce_all(done):\n",
    "                break\n",
    "        \n",
    "        output = tf.transpose(output_array.stack(), perm=[1, 0, 2])\n",
    "        output = tf.squeeze(output, axis=-1)  # Remove the last dimension\n",
    "        \n",
    "        text = self.tokenizers.en.detokenize(output)\n",
    "        tokens = self.tokenizers.en.lookup(output)\n",
    "        \n",
    "        return text, tokens\n"
   ]
  },
  {
   "cell_type": "code",
   "execution_count": 143,
   "id": "81ab0470",
   "metadata": {
    "scrolled": true
   },
   "outputs": [
    {
     "name": "stdout",
     "output_type": "stream",
     "text": [
      "Input:         : este é um problema que temos que resolver.\n",
      "Prediction     : this is a problem that we have to solve .\n",
      "Ground truth   : this is a problem we have to solve .\n",
      "\n",
      "\n",
      "Input:         : os meus vizinhos ouviram sobre esta ideia.\n",
      "Prediction     : my neighbors heard about this idea .\n",
      "Ground truth   : and my neighboring homes heard about this idea .\n",
      "\n",
      "\n",
      "Input:         : vou então muito rapidamente partilhar convosco algumas histórias de algumas coisas mágicas que aconteceram.\n",
      "Prediction     : so i ' m going to be very rapidly in sharing some of the magic stories that happened .\n",
      "Ground truth   : so i'll just share with you some stories very quickly of some magical things that have happened.\n",
      "\n",
      "\n"
     ]
    }
   ],
   "source": [
    "translators = Translators(tokenizers, transformer)\n",
    " \n",
    "sentences = [ 'este é um problema que temos que resolver.',  # 'this is a problem we have to solve .'\n",
    " 'os meus vizinhos ouviram sobre esta ideia.',  # 'and my neighboring homes heard about this idea .'\n",
    "  'vou então muito rapidamente partilhar convosco algumas histórias de algumas coisas mágicas que aconteceram.' #\"so i'll just share with you some stories very quickly of some magical things that have happened.\"\n",
    "  ]\n",
    "ground_truths = ['this is a problem we have to solve .', 'and my neighboring homes heard about this idea .', \"so i'll just share with you some stories very quickly of some magical things that have happened.\"]\n",
    "translated_text, translated_tokens = translators( tf.constant(sentences) )\n",
    "def print_translation(sentences, preds, ground_truths):\n",
    "    for s,t,g in zip(sentences, preds, ground_truths):\n",
    "        print(f'{\"Input:\":15s}: {s}')\n",
    "        print(f'{\"Prediction\":15s}: {t.numpy().decode(\"utf-8\")}')\n",
    "        print(f'{\"Ground truth\":15s}: {g}')\n",
    "        print('\\n')\n",
    "print_translation(sentences, translated_text, ground_truths)"
   ]
  },
  {
   "cell_type": "code",
   "execution_count": null,
   "id": "47335ffb",
   "metadata": {},
   "outputs": [],
   "source": []
  },
  {
   "cell_type": "code",
   "execution_count": null,
   "id": "e63085df",
   "metadata": {},
   "outputs": [],
   "source": []
  },
  {
   "cell_type": "code",
   "execution_count": null,
   "id": "20d8b9cb",
   "metadata": {},
   "outputs": [],
   "source": []
  },
  {
   "cell_type": "code",
   "execution_count": null,
   "id": "5749c1b1",
   "metadata": {},
   "outputs": [],
   "source": []
  }
 ],
 "metadata": {
  "kernelspec": {
   "display_name": "tf-gpu-2.10.0-py-3.10",
   "language": "python",
   "name": "tf-gpu-2.10.0-py-3.10"
  },
  "language_info": {
   "codemirror_mode": {
    "name": "ipython",
    "version": 3
   },
   "file_extension": ".py",
   "mimetype": "text/x-python",
   "name": "python",
   "nbconvert_exporter": "python",
   "pygments_lexer": "ipython3",
   "version": "3.10.9"
  }
 },
 "nbformat": 4,
 "nbformat_minor": 5
}
