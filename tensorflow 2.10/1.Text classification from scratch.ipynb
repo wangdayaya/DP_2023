{
 "cells": [
  {
   "cell_type": "code",
   "execution_count": 2,
   "id": "b5951738",
   "metadata": {},
   "outputs": [
    {
     "name": "stderr",
     "output_type": "stream",
     "text": [
      "D:\\anaconda\\envs\\tf-gpu-2.10.0-py-3.10\\lib\\site-packages\\numpy\\_distributor_init.py:30: UserWarning: loaded more than 1 DLL from .libs:\n",
      "D:\\anaconda\\envs\\tf-gpu-2.10.0-py-3.10\\lib\\site-packages\\numpy\\.libs\\libopenblas.FB5AE2TYXYH2IJRDKGDGQ3XBKLKTF43H.gfortran-win_amd64.dll\n",
      "D:\\anaconda\\envs\\tf-gpu-2.10.0-py-3.10\\lib\\site-packages\\numpy\\.libs\\libopenblas64__v0.3.23-246-g3d31191b-gcc_10_3_0.dll\n",
      "  warnings.warn(\"loaded more than 1 DLL from .libs:\"\n"
     ]
    }
   ],
   "source": [
    "import os\n",
    "import keras\n",
    "import tensorflow as tf\n",
    "import numpy as np\n",
    "import string, re\n",
    "gpus = tf.config.experimental.list_physical_devices('GPU')\n",
    "for gpu in gpus:\n",
    "    tf.config.experimental.set_memory_growth(gpu, True)"
   ]
  },
  {
   "cell_type": "code",
   "execution_count": 3,
   "id": "7c13aca8",
   "metadata": {},
   "outputs": [
    {
     "name": "stdout",
     "output_type": "stream",
     "text": [
      "Found 25000 files belonging to 2 classes.\n",
      "Using 20000 files for training.\n",
      "Found 25000 files belonging to 2 classes.\n",
      "Using 5000 files for validation.\n",
      "Found 25000 files belonging to 2 classes.\n",
      "b'I\\'ve seen tons of science fiction from the 70s; some horrendously bad, and others thought provoking and truly frightening. Soylent Green fits into the latter category. Yes, at times it\\'s a little campy, and yes, the furniture is good for a giggle or two, but some of the film seems awfully prescient. Here we have a film, 9 years before Blade Runner, that dares to imagine the future as somthing dark, scary, and nihilistic. Both Charlton Heston and Edward G. Robinson fare far better in this than The Ten Commandments, and Robinson\\'s assisted-suicide scene is creepily prescient of Kevorkian and his ilk. Some of the attitudes are dated (can you imagine a filmmaker getting away with the \"women as furniture\" concept in our oh-so-politically-correct-90s?), but it\\'s rare to find a film from the Me Decade that actually can make you think. This is one I\\'d love to see on the big screen, because even in a widescreen presentation, I don\\'t think the overall scope of this film would receive its due. Check it out.'\n",
      "1\n"
     ]
    }
   ],
   "source": [
    "batch_size = 32\n",
    "raw_train_ds = keras.utils.text_dataset_from_directory(\"aclImdb/train\", batch_size=batch_size, validation_split=0.2, subset=\"training\", seed=1337)\n",
    "raw_val_ds  =  keras.utils.text_dataset_from_directory(\"aclImdb/train\", batch_size=batch_size, validation_split=0.2, subset=\"validation\", seed=1337)\n",
    "raw_test_ds = keras.utils.text_dataset_from_directory(\"aclImdb/test\", batch_size=batch_size)\n",
    "for text_batch, label_batch in raw_train_ds.take(1):\n",
    "    for i in range(1):\n",
    "        print(text_batch.numpy()[i])\n",
    "        print(label_batch.numpy()[i])"
   ]
  },
  {
   "cell_type": "code",
   "execution_count": 4,
   "id": "0158fbc5",
   "metadata": {},
   "outputs": [
    {
     "name": "stdout",
     "output_type": "stream",
     "text": [
      "tf.Tensor(\n",
      "[[  10    7  240 ...    0    0    0]\n",
      " [  10   17   13 ...    0    0    0]\n",
      " [  89   76   69 ...    0    0    0]\n",
      " ...\n",
      " [1196   50   11 ...    0    0    0]\n",
      " [  47   13  136 ...    0    0    0]\n",
      " [  11  727  159 ...    0    0    0]], shape=(32, 500), dtype=int64)\n",
      "tf.Tensor([1 0 0 1 0 1 1 0 1 0 1 0 0 1 0 1 1 1 0 0 1 0 0 1 1 1 1 1 1 1 0 0], shape=(32,), dtype=int32)\n"
     ]
    }
   ],
   "source": [
    "def custom_standardization(input_data):\n",
    "    lowercase = tf.strings.lower(input_data)\n",
    "    stripped_html = tf.strings.regex_replace(lowercase, \"<br />\", \" \")\n",
    "    return tf.strings.regex_replace(stripped_html, f\"[{re.escape(string.punctuation)}]\", \"\")\n",
    "\n",
    "max_features = 20000\n",
    "embedding_dim = 128\n",
    "sequence_length = 500\n",
    "vectorize_layer = keras.layers.TextVectorization(standardize=custom_standardization, max_tokens=max_features, output_sequence_length=sequence_length)\n",
    "vectorize_layer.adapt(raw_train_ds.map(lambda x,y:x))\n",
    "\n",
    "def vecrorize_text(text, label):\n",
    "    return vectorize_layer(text), label\n",
    "\n",
    "train_ds = raw_train_ds.map(vecrorize_text).cache().prefetch(buffer_size=10)\n",
    "val_ds = raw_val_ds.map(vecrorize_text).cache().prefetch(buffer_size=10)\n",
    "test_ds = raw_test_ds.map(vecrorize_text).cache().prefetch(buffer_size=10)\n",
    "for texts,labels in train_ds.take(1):\n",
    "    print(texts)\n",
    "    print(labels)"
   ]
  },
  {
   "attachments": {
    "image.png": {
     "image/png": "[encoded data removed]"
    }
   },
   "cell_type": "markdown",
   "id": "498c82b1",
   "metadata": {},
   "source": [
    "我们从每一步的输入和输出形状（shape）来分析代码。\n",
    "\n",
    "```python\n",
    "inputs = keras.Input(shape=(None,), dtype=\"int64\")\n",
    "```\n",
    "\n",
    "- 这行代码定义了一个输入层，输入的 `shape` 是 `(None,)`，表示输入序列的长度可以是任意的。`dtype=\"int64\"` 表示输入数据的类型是整数。这一层的输出 `shape` 是 `(batch_size, sequence_length)`，其中 `sequence_length` 是输入的实际序列长度。\n",
    "\n",
    "```python\n",
    "x = keras.layers.Embedding(max_features, embedding_dim)(inputs)\n",
    "```\n",
    "\n",
    "- 这一层是嵌入层（Embedding layer），它将输入的整数序列转换为密集的向量表示。`max_features` 表示词汇表的大小，`embedding_dim` 表示每个词嵌入向量的维度。输出 `shape` 是 `(batch_size, sequence_length, embedding_dim)`，其中 `embedding_dim` 是嵌入向量的维度。\n",
    "\n",
    "```python\n",
    "x = keras.layers.Dropout(0.5)(x)\n",
    "```\n",
    "\n",
    "- Dropout 层用于在训练期间随机丢弃一部分神经元来防止过拟合。Dropout 层不会改变 `shape`，因此输出 `shape` 仍然是 `(batch_size, sequence_length, embedding_dim)`。\n",
    "\n",
    "```python\n",
    "x = keras.layers.Conv1D(128, 7, padding=\"valid\", activation=\"relu\", strides=3)(x)\n",
    "```\n",
    "\n",
    "- 这是一维卷积层（Conv1D layer）。`128` 表示卷积核的数量，也就是输出通道数。`7` 表示卷积核的大小（filter size）。`strides=3` 表示卷积核的步幅为3。`padding=\"valid\"` 表示不进行填充。输出的 `shape` 将是 `(batch_size, new_sequence_length, 128)`，其中 `new_sequence_length` 由以下公式计算：\n",
    "\n",
    "![image.png](attachment:image.png)\n",
    "\n",
    "总结一下各个步骤的 `shape` 变化：\n",
    "\n",
    "1. `inputs`：`(batch_size, sequence_length)`\n",
    "2. `Embedding`：`(batch_size, sequence_length, embedding_dim)`\n",
    "3. `Dropout`：`(batch_size, sequence_length, embedding_dim)`\n",
    "4. `Conv1D`：`(batch_size, new_sequence_length, 128)`"
   ]
  },
  {
   "cell_type": "code",
   "execution_count": null,
   "id": "68e07139",
   "metadata": {},
   "outputs": [],
   "source": []
  },
  {
   "cell_type": "code",
   "execution_count": 5,
   "id": "e71d2f31",
   "metadata": {},
   "outputs": [],
   "source": [
    "inputs = keras.Input(shape=(None,), dtype=\"int64\")\n",
    "x = keras.layers.Embedding(max_features, embedding_dim)(inputs)\n",
    "x = keras.layers.Dropout(0.5)(x)\n",
    "x = keras.layers.Conv1D(128, 7, padding=\"valid\", activation=\"relu\", strides=3)(x) # (B, 165, 128)\n",
    "x = keras.layers.Conv1D(128, 7, padding=\"valid\", activation=\"relu\", strides=3)(x) # (B, 53, 128)\n",
    "x = keras.layers.GlobalMaxPooling1D()(x)  # (B, 128)  沿着时间步维度（即第二个维度，长度为 53）进行最大池化操作。\n",
    "x = keras.layers.Dense(128, activation=\"relu\")(x)\n",
    "x = keras.layers.Dropout(0.5)(x)\n",
    "predictions = keras.layers.Dense(1, activation=\"sigmoid\", name=\"predictions\")(x)\n",
    "model = keras.Model(inputs, predictions)\n",
    "model.compile(loss=keras.losses.BinaryCrossentropy(),\n",
    "             optimizer=keras.optimizers.Adam(),\n",
    "             metrics=[keras.metrics.BinaryAccuracy()])"
   ]
  },
  {
   "cell_type": "code",
   "execution_count": 41,
   "id": "970a5933",
   "metadata": {},
   "outputs": [
    {
     "name": "stdout",
     "output_type": "stream",
     "text": [
      "Epoch 1/3\n",
      "625/625 [==============================] - 2s 3ms/step - loss: 0.5130 - binary_accuracy: 0.7035 - val_loss: 0.3061 - val_binary_accuracy: 0.8704\n",
      "Epoch 2/3\n",
      "625/625 [==============================] - 2s 3ms/step - loss: 0.2247 - binary_accuracy: 0.9122 - val_loss: 0.3440 - val_binary_accuracy: 0.8604\n",
      "Epoch 3/3\n",
      "625/625 [==============================] - 2s 3ms/step - loss: 0.1161 - binary_accuracy: 0.9577 - val_loss: 0.4223 - val_binary_accuracy: 0.8712\n"
     ]
    },
    {
     "data": {
      "text/plain": [
       "<keras.callbacks.History at 0x1e00f6a0460>"
      ]
     },
     "execution_count": 41,
     "metadata": {},
     "output_type": "execute_result"
    }
   ],
   "source": [
    "model.fit(train_ds, validation_data=val_ds, epochs=3) # 4.2G-4.4G"
   ]
  },
  {
   "cell_type": "code",
   "execution_count": 42,
   "id": "41aa0736",
   "metadata": {},
   "outputs": [
    {
     "name": "stdout",
     "output_type": "stream",
     "text": [
      "782/782 [==============================] - 6s 8ms/step - loss: 0.4301 - binary_accuracy: 0.8631\n"
     ]
    },
    {
     "data": {
      "text/plain": [
       "[0.43008673191070557, 0.8630800247192383]"
      ]
     },
     "execution_count": 42,
     "metadata": {},
     "output_type": "execute_result"
    }
   ],
   "source": [
    "model.evaluate(test_ds)"
   ]
  },
  {
   "cell_type": "markdown",
   "id": "441d5532",
   "metadata": {},
   "source": [
    "# 直接以字符串为输入"
   ]
  },
  {
   "cell_type": "code",
   "execution_count": 43,
   "id": "fa3c5864",
   "metadata": {},
   "outputs": [
    {
     "name": "stdout",
     "output_type": "stream",
     "text": [
      "782/782 [==============================] - 5s 6ms/step - loss: 0.4301 - accuracy: 0.8631\n"
     ]
    },
    {
     "data": {
      "text/plain": [
       "[0.43008673191070557, 0.8630800247192383]"
      ]
     },
     "execution_count": 43,
     "metadata": {},
     "output_type": "execute_result"
    }
   ],
   "source": [
    "inputs = keras.Input(shape=(1,), dtype=\"string\")\n",
    "indices = vectorize_layer(inputs)\n",
    "outputs = model(indices)\n",
    "end_to_end_model = keras.Model(inputs, outputs)\n",
    "end_to_end_model.compile(loss=\"binary_crossentropy\", optimizer=\"adam\", metrics=[\"accuracy\"])\n",
    "end_to_end_model.evaluate(raw_test_ds)"
   ]
  },
  {
   "cell_type": "code",
   "execution_count": null,
   "id": "9a50c116",
   "metadata": {},
   "outputs": [],
   "source": []
  },
  {
   "cell_type": "code",
   "execution_count": null,
   "id": "d3ed20dc",
   "metadata": {},
   "outputs": [],
   "source": []
  }
 ],
 "metadata": {
  "kernelspec": {
   "display_name": "tf-gpu-2.10.0-py-3.10",
   "language": "python",
   "name": "tf-gpu-2.10.0-py-3.10"
  },
  "language_info": {
   "codemirror_mode": {
    "name": "ipython",
    "version": 3
   },
   "file_extension": ".py",
   "mimetype": "text/x-python",
   "name": "python",
   "nbconvert_exporter": "python",
   "pygments_lexer": "ipython3",
   "version": "3.10.9"
  }
 },
 "nbformat": 4,
 "nbformat_minor": 5
}
