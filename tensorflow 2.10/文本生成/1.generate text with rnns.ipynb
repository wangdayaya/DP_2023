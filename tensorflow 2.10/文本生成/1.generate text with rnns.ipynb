{
 "cells": [
  {
   "cell_type": "code",
   "execution_count": 1,
   "id": "64765a69",
   "metadata": {},
   "outputs": [
    {
     "name": "stderr",
     "output_type": "stream",
     "text": [
      "D:\\anaconda\\envs\\tf-gpu-2.10.0-py-3.10\\lib\\site-packages\\numpy\\_distributor_init.py:30: UserWarning: loaded more than 1 DLL from .libs:\n",
      "D:\\anaconda\\envs\\tf-gpu-2.10.0-py-3.10\\lib\\site-packages\\numpy\\.libs\\libopenblas.FB5AE2TYXYH2IJRDKGDGQ3XBKLKTF43H.gfortran-win_amd64.dll\n",
      "D:\\anaconda\\envs\\tf-gpu-2.10.0-py-3.10\\lib\\site-packages\\numpy\\.libs\\libopenblas64__v0.3.23-246-g3d31191b-gcc_10_3_0.dll\n",
      "  warnings.warn(\"loaded more than 1 DLL from .libs:\"\n"
     ]
    }
   ],
   "source": [
    "import tensorflow as tf\n",
    "import tensorflow_text as tf_text\n",
    "import numpy as np\n",
    "import os\n",
    "import time\n",
    "import matplotlib.pyplot as plt\n",
    "\n",
    "gpu_list = tf.config.experimental.list_physical_devices('GPU')\n",
    "if len(gpu_list) > 0:\n",
    "    for gpu in gpu_list:\n",
    "        tf.config.experimental.set_memory_growth(gpu, True) "
   ]
  },
  {
   "cell_type": "code",
   "execution_count": null,
   "id": "dc81250c",
   "metadata": {},
   "outputs": [],
   "source": []
  },
  {
   "cell_type": "code",
   "execution_count": 2,
   "id": "1a385080",
   "metadata": {},
   "outputs": [
    {
     "name": "stdout",
     "output_type": "stream",
     "text": [
      "tf.Tensor(\n",
      "[[ 3  2 19  3  9  3  2  4  9 15  3 18  2  7  3  2  8  7  5 15 13 14  2 24\n",
      "   3  2 22  9  6 21 11  5 15  8 29 12 12 27 36 39 43 45 23 37 43 34 53  2\n",
      "  34 51  2 52 34 36 54 26 12 41  7 17 18  2 16  6 14  6 16 18  2  8  5 18\n",
      "   2 10  5  2 14  5 15 24  4 18  2  7  3  2 11  8 29 12 12 49 42 39 43 32\n",
      "  37 37  2 34]], shape=(1, 100), dtype=int64)\n",
      "tf.Tensor(\n",
      "[[ 2 19  3  9  3  2  4  9 15  3 18  2  7  3  2  8  7  5 15 13 14  2 24  3\n",
      "   2 22  9  6 21 11  5 15  8 29 12 12 27 36 39 43 45 23 37 43 34 53  2 34\n",
      "  51  2 52 34 36 54 26 12 41  7 17 18  2 16  6 14  6 16 18  2  8  5 18  2\n",
      "  10  5  2 14  5 15 24  4 18  2  7  3  2 11  8 29 12 12 49 42 39 43 32 37\n",
      "  37  2 34 51]], shape=(1, 100), dtype=int64)\n"
     ]
    }
   ],
   "source": [
    "path_to_file = tf.keras.utils.get_file('shakespeare.txt', 'https://storage.googleapis.com/download.tensorflow.org/data/shakespeare.txt')\n",
    "text = open(path_to_file, 'rb').read().decode(encoding='utf-8')\n",
    "texts = []\n",
    "step = 101\n",
    "\n",
    "for i in range(0, len(text), step):\n",
    "    t = text[i: i+step]\n",
    "    texts.append(t.strip())\n",
    "\n",
    "context = np.array([t[:-1] for t in texts])\n",
    "target = np.array([t[1:] for t in texts])\n",
    "\n",
    "BUFFER_SIZE = len(texts)\n",
    "BATCH_SIZE = 64\n",
    "is_train = np.random.uniform(size=(BUFFER_SIZE,)) < 0.8\n",
    "train_raw = tf.data.Dataset.from_tensor_slices((context[is_train],target[is_train])).shuffle(BUFFER_SIZE).batch(BATCH_SIZE)\n",
    "val_raw = tf.data.Dataset.from_tensor_slices((context[~is_train], target[~is_train])).shuffle(BUFFER_SIZE).batch(BATCH_SIZE)\n",
    "\n",
    "def lower_split_util(text):\n",
    "    text = tf_text.normalize_utf8(text, 'NFKD')\n",
    "    return tf.strings.unicode_split(text, 'UTF-8')\n",
    "\n",
    "text_processor = tf.keras.layers.TextVectorization(standardize=lower_split_util, split=None)\n",
    "text_processor.adapt(train_raw.map(lambda context,target:context))\n",
    "\n",
    "def process_train_ds(context, target):\n",
    "    context = text_processor(context)\n",
    "    target = text_processor(target)\n",
    "    return context, target\n",
    "\n",
    "train_ds = train_raw.map(process_train_ds, tf.data.AUTOTUNE)\n",
    "val_ds = val_raw.map(process_train_ds, tf.data.AUTOTUNE)\n",
    "for A,B in train_ds.take(1):\n",
    "    print(A[:1])\n",
    "    print(B[:1])\n",
    "# for context_ex, target_ex in train_ds:\n",
    "#     assert context_ex.shape[1] == target_ex.shape[1]\n",
    "# print(\"success\")"
   ]
  },
  {
   "cell_type": "code",
   "execution_count": null,
   "id": "cb86c19b",
   "metadata": {},
   "outputs": [],
   "source": []
  },
  {
   "cell_type": "code",
   "execution_count": 3,
   "id": "d72477ec",
   "metadata": {},
   "outputs": [],
   "source": [
    "vocab_size = text_processor.vocabulary_size()\n",
    "embedding_dim = 256\n",
    "rnn_units = 1024\n",
    "\n",
    "class MyModel(tf.keras.Model):\n",
    "    def __init__(self, vocab_size, embedding_dim, rnn_units):\n",
    "        super().__init__(self)\n",
    "        self.embedding = tf.keras.layers.Embedding(vocab_size, embedding_dim)\n",
    "        self.gru = tf.keras.layers.GRU(rnn_units, return_sequences=True, return_state=True)\n",
    "        self.dense = tf.keras.layers.Dense(vocab_size)\n",
    "    \n",
    "    def call(self, inputs, states=None, return_state=False, training=False):\n",
    "        x = inputs\n",
    "        x = self.embedding(x, training=training)\n",
    "        if states is None:\n",
    "            states = self.gru.get_initial_state(x)\n",
    "        x, states = self.gru(x, initial_state=states, training=training)\n",
    "        x = self.dense(x, training=training)\n",
    "        if return_state:\n",
    "            return x, states\n",
    "        else:\n",
    "            return x\n",
    "model = MyModel(vocab_size=vocab_size, embedding_dim=embedding_dim, rnn_units=rnn_units)"
   ]
  },
  {
   "cell_type": "code",
   "execution_count": null,
   "id": "665e5909",
   "metadata": {},
   "outputs": [],
   "source": []
  },
  {
   "cell_type": "code",
   "execution_count": 4,
   "id": "7fb4db58",
   "metadata": {},
   "outputs": [
    {
     "name": "stdout",
     "output_type": "stream",
     "text": [
      "0.2797765635793423 0.2797765635793423\n"
     ]
    }
   ],
   "source": [
    "y_true = np.array([0, 1, 2])  \n",
    "y_pred = np.array([[0.9, 0.05, 0.05],   \n",
    "                  [0.1, 0.8, 0.1],\n",
    "                  [0.2, 0.2, 0.6]])\n",
    "y_pred_probability = y_pred[np.arange(len(y_true)), y_true]\n",
    "loss = -np.log(y_pred_probability)\n",
    "print(tf.reduce_mean(loss).numpy(), tf.losses.SparseCategoricalCrossentropy(from_logits=False)(y_true, y_pred).numpy())"
   ]
  },
  {
   "cell_type": "code",
   "execution_count": 5,
   "id": "610add96",
   "metadata": {},
   "outputs": [
    {
     "name": "stdout",
     "output_type": "stream",
     "text": [
      "0.5108256237659907 0.5108256237659906\n"
     ]
    }
   ],
   "source": [
    "predictions = np.array([0.1, 0.3, 0.6])\n",
    "true_label = 2\n",
    "predicted_probability = predictions[true_label]\n",
    "loss = -np.log(predicted_probability)\n",
    "print(loss, tf.losses.SparseCategoricalCrossentropy(from_logits=False)(true_label, predictions).numpy() )"
   ]
  },
  {
   "cell_type": "code",
   "execution_count": 6,
   "id": "1ad29c21",
   "metadata": {
    "scrolled": true
   },
   "outputs": [
    {
     "name": "stdout",
     "output_type": "stream",
     "text": [
      "Epoch 1/100\n",
      "138/138 [==============================] - 6s 23ms/step - loss: 2.8639 - val_loss: 2.2649\n",
      "Epoch 2/100\n",
      "138/138 [==============================] - 2s 11ms/step - loss: 2.1018 - val_loss: 1.9535\n",
      "Epoch 3/100\n",
      "138/138 [==============================] - 2s 11ms/step - loss: 1.8318 - val_loss: 1.7405\n",
      "Epoch 4/100\n",
      "138/138 [==============================] - 2s 11ms/step - loss: 1.6540 - val_loss: 1.6017\n",
      "Epoch 5/100\n",
      "138/138 [==============================] - 2s 11ms/step - loss: 1.5361 - val_loss: 1.5159\n",
      "Epoch 6/100\n",
      "138/138 [==============================] - 2s 11ms/step - loss: 1.4534 - val_loss: 1.4636\n",
      "Epoch 7/100\n",
      "138/138 [==============================] - 2s 11ms/step - loss: 1.3916 - val_loss: 1.4252\n",
      "Epoch 8/100\n",
      "138/138 [==============================] - 2s 11ms/step - loss: 1.3403 - val_loss: 1.4039\n",
      "Epoch 9/100\n",
      "138/138 [==============================] - 2s 11ms/step - loss: 1.2954 - val_loss: 1.3881\n",
      "Epoch 10/100\n",
      "138/138 [==============================] - 2s 11ms/step - loss: 1.2544 - val_loss: 1.3805\n",
      "Epoch 11/100\n",
      "138/138 [==============================] - 2s 11ms/step - loss: 1.2125 - val_loss: 1.3769\n",
      "Epoch 12/100\n",
      "138/138 [==============================] - 2s 11ms/step - loss: 1.1723 - val_loss: 1.3830\n",
      "Epoch 13/100\n",
      "138/138 [==============================] - 2s 11ms/step - loss: 1.1289 - val_loss: 1.3890\n",
      "Epoch 14/100\n",
      "138/138 [==============================] - 2s 11ms/step - loss: 1.0830 - val_loss: 1.4064\n"
     ]
    }
   ],
   "source": [
    "loss = tf.losses.SparseCategoricalCrossentropy(from_logits=True)   # 一开始近似等于 -np.log(1/5000)\n",
    "optimizer = tf.optimizers.Adam()\n",
    "checkpoint_callback = tf.keras.callbacks.ModelCheckpoint(filepath=os.path.join('./traning_checkpoints', \"ckpt_{epoch}\"), save_weights_only=True)\n",
    "early = tf.keras.callbacks.EarlyStopping(patience=3, monitor='val_loss')\n",
    "model.compile(loss=loss, optimizer=optimizer)\n",
    "history = model.fit(train_ds, epochs=100, validation_data=val_ds, callbacks=[checkpoint_callback, early])  # 2.3G"
   ]
  },
  {
   "cell_type": "code",
   "execution_count": 7,
   "id": "c6cc5f9f",
   "metadata": {},
   "outputs": [
    {
     "data": {
      "image/png": "[encoded data removed]",
      "text/plain": [
       "<Figure size 500x300 with 1 Axes>"
      ]
     },
     "metadata": {},
     "output_type": "display_data"
    }
   ],
   "source": [
    "def plot(history):\n",
    "    loss = history.history['loss']\n",
    "    val_loss = history.history['val_loss']\n",
    "    epochs = range(1, len(loss) + 1)\n",
    "    plt.figure(figsize=(5, 3))\n",
    "    plt.plot(epochs, loss, 'bo-', label='Training loss')\n",
    "    plt.plot(epochs, val_loss, 'ro-', label='Validation loss')\n",
    "    plt.title('Training and Validation Loss')\n",
    "    plt.xlabel('Epochs')\n",
    "    plt.ylabel('Loss')\n",
    "    plt.legend()\n",
    "    plt.show()\n",
    "plot(history)"
   ]
  },
  {
   "cell_type": "code",
   "execution_count": null,
   "id": "82c9d61f",
   "metadata": {
    "scrolled": true
   },
   "outputs": [],
   "source": []
  },
  {
   "cell_type": "code",
   "execution_count": 11,
   "id": "f6fd6bf3",
   "metadata": {
    "scrolled": true
   },
   "outputs": [
    {
     "name": "stdout",
     "output_type": "stream",
     "text": [
      "tf.Tensor([b\"ROMEO:\\nIt is much touch'd his mother's house.\\nCars you be not woo't against Cutilly and fire;\\nAnd I, that \"], shape=(1,), dtype=string) \n",
      " 0.6237337589263916\n"
     ]
    }
   ],
   "source": [
    "class OneStep(tf.keras.Model):\n",
    "    def __init__(self, model, text_processor, temperature=1.0):\n",
    "        super().__init__()\n",
    "        self.text_processor = text_processor\n",
    "        self.word_to_id = tf.keras.layers.StringLookup(vocabulary=text_processor.get_vocabulary(),  mask_token='', oov_token='[UNK]', )\n",
    "        self.id_to_word = tf.keras.layers.StringLookup(vocabulary=text_processor.get_vocabulary(),  mask_token='', oov_token='[UNK]',invert=True)\n",
    "        self.temperature = temperature\n",
    "        self.model = model\n",
    "        \n",
    "        skip_ids = self.word_to_id(['[UNK]'])[:, None]\n",
    "        sparse_mask = tf.SparseTensor(values = [-float('inf')] * len(skip_ids), indices=skip_ids, dense_shape=[len(self.word_to_id.get_vocabulary())])\n",
    "        self.prediction_mask = tf.sparse.to_dense(sparse_mask)\n",
    "    \n",
    "    @tf.function\n",
    "    def generate_one_step(self, inputs, states=None):\n",
    "        input_chars = tf.strings.unicode_split(inputs, 'UTF-8')\n",
    "        input_ids = self.word_to_id(input_chars).to_tensor()\n",
    "        predicted_logits, states = self.model(inputs=input_ids, states=states, return_state=True)  # (1, None, 67)\n",
    "        predicted_logits = predicted_logits[:, -1, :] / self.temperature + self.prediction_mask  # (1, 67)\n",
    "        predicted_ids = tf.random.categorical(predicted_logits, num_samples=1) # (1, 1)\n",
    "        predicted_ids = tf.squeeze(predicted_ids, axis=-1)  # (1)\n",
    "        predicted_chars = self.id_to_word(predicted_ids)\n",
    "        return predicted_chars, states\n",
    "\n",
    "one_step_model = OneStep(model, text_processor)\n",
    "start = time.time()\n",
    "states = None\n",
    "next_char = tf.constant(['ROMEO:'])\n",
    "result = [next_char]\n",
    "for n in range(100):\n",
    "    next_char, states = one_step_model.generate_one_step(inputs=next_char, states=states)\n",
    "    result.append(next_char)\n",
    "result = tf.strings.join(result)\n",
    "end = time.time()\n",
    "print(result,'\\n' ,end-start)"
   ]
  },
  {
   "cell_type": "markdown",
   "id": "9513d545",
   "metadata": {},
   "source": [
    "在自然语言处理和生成任务中，如使用GPT-3或GPT-4模型生成文本时，**temperature** 是一个重要的参数，它控制生成文本的随机性和多样性。\n",
    "\n",
    "### 作用与原理\n",
    "\n",
    "- **温度 (temperature)** 是用于调整模型生成的概率分布的参数。它在生成下一个词时影响选择词的概率。\n",
    "- **公式**: 在技术上，temperature 调整 softmax 函数的输入。具体来说，如果`logits`表示模型预测的每个词的对数概率，temperature调整后的对数概率为`logits / temperature`。\n",
    "\n",
    "### 温度的影响\n",
    "\n",
    "1. **高温度** (>1.0)\n",
    "   - 增加随机性。\n",
    "   - 使模型更有可能选择低概率词汇。\n",
    "   - 结果更有创意和多样性，但可能更不相关或不连贯。\n",
    "   - 适用于需要创造力和非结构化输出的场景，如故事生成、诗歌写作。\n",
    "\n",
    "2. **低温度** (<1.0)\n",
    "   - 减少随机性。\n",
    "   - 模型更倾向于选择高概率词汇。\n",
    "   - 结果更确定、连贯，但可能缺乏多样性和新意。\n",
    "   - 适用于需要确定性和结构化的输出场景，如技术文档生成、简洁回答。\n",
    "\n",
    "3. **温度为1.0**\n",
    "   - 模型输出与概率分布直接相关。\n",
    "   - 不调整生成概率的随机性。\n",
    "\n",
    "### 示例\n",
    "假设我们用模型生成一个句子，使用不同的 temperature 会导致不同的结果。\n",
    "\n",
    "- **Temperature = 0.7**: \n",
    "  - \"The cat sat on the mat.\"\n",
    "  - 更连贯，选择更确定的词。\n",
    "\n",
    "- **Temperature = 1.0**:\n",
    "  - \"The cat perched on the sunny mat.\"\n",
    "  - 具有适度的随机性和创造性。\n",
    "\n",
    "- **Temperature = 1.5**:\n",
    "  - \"A curious feline leaped onto a vibrant rug.\"\n",
    "  - 更具创意和变化，但可能不太连贯。\n",
    " "
   ]
  },
  {
   "cell_type": "code",
   "execution_count": null,
   "id": "d200308e",
   "metadata": {},
   "outputs": [],
   "source": []
  },
  {
   "cell_type": "code",
   "execution_count": null,
   "id": "bf6404c7",
   "metadata": {},
   "outputs": [],
   "source": []
  },
  {
   "cell_type": "code",
   "execution_count": null,
   "id": "77a4a4b7",
   "metadata": {},
   "outputs": [],
   "source": []
  }
 ],
 "metadata": {
  "kernelspec": {
   "display_name": "tf-gpu-2.10.0-py-3.10",
   "language": "python",
   "name": "tf-gpu-2.10.0-py-3.10"
  },
  "language_info": {
   "codemirror_mode": {
    "name": "ipython",
    "version": 3
   },
   "file_extension": ".py",
   "mimetype": "text/x-python",
   "name": "python",
   "nbconvert_exporter": "python",
   "pygments_lexer": "ipython3",
   "version": "3.10.9"
  }
 },
 "nbformat": 4,
 "nbformat_minor": 5
}
