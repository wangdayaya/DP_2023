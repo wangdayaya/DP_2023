{
 "cells": [
  {
   "cell_type": "code",
   "execution_count": 1,
   "id": "58656c9f",
   "metadata": {},
   "outputs": [
    {
     "name": "stderr",
     "output_type": "stream",
     "text": [
      "D:\\anaconda\\envs\\tf-gpu-2.10.0-py-3.10\\lib\\site-packages\\numpy\\_distributor_init.py:30: UserWarning: loaded more than 1 DLL from .libs:\n",
      "D:\\anaconda\\envs\\tf-gpu-2.10.0-py-3.10\\lib\\site-packages\\numpy\\.libs\\libopenblas.FB5AE2TYXYH2IJRDKGDGQ3XBKLKTF43H.gfortran-win_amd64.dll\n",
      "D:\\anaconda\\envs\\tf-gpu-2.10.0-py-3.10\\lib\\site-packages\\numpy\\.libs\\libopenblas64__v0.3.23-246-g3d31191b-gcc_10_3_0.dll\n",
      "  warnings.warn(\"loaded more than 1 DLL from .libs:\"\n"
     ]
    },
    {
     "name": "stdout",
     "output_type": "stream",
     "text": [
      "从一张物理 GPU 中虚拟出 3 个逻辑 GPU\n"
     ]
    }
   ],
   "source": [
    "import tensorflow as tf\n",
    "import tensorflow_text as tf_text\n",
    "import numpy as np\n",
    "import os\n",
    "import time\n",
    "import matplotlib.pyplot as plt\n",
    "\n",
    "gpu_list = tf.config.experimental.list_physical_devices('GPU')\n",
    "if len(gpu_list) > 0:\n",
    "    for gpu in gpu_list:\n",
    "        tf.config.experimental.set_memory_growth(gpu, True)\n",
    "        tf.config.set_logical_device_configuration(\n",
    "            gpu,\n",
    "            [\n",
    "                tf.config.LogicalDeviceConfiguration(memory_limit=3072),\n",
    "                tf.config.LogicalDeviceConfiguration(memory_limit=3072),\n",
    "                tf.config.LogicalDeviceConfiguration(memory_limit=3072),\n",
    "            ]\n",
    "        )\n",
    "        logical_devices = tf.config.list_logical_devices('GPU')\n",
    "        print(f'从一张物理 GPU 中虚拟出 {len(logical_devices)} 个逻辑 GPU')"
   ]
  },
  {
   "cell_type": "code",
   "execution_count": 363,
   "id": "7ffbfb11",
   "metadata": {},
   "outputs": [],
   "source": []
  },
  {
   "cell_type": "code",
   "execution_count": 2,
   "id": "58437a98",
   "metadata": {},
   "outputs": [
    {
     "name": "stdout",
     "output_type": "stream",
     "text": [
      "tf.Tensor(\n",
      "[[21  7  2 17  5 15  2  7  5 19  2 17  5 15  2  8  7  6 13 13  2  6  9  9\n",
      "   6 11 22 10  2 17  5 15  9  2 21  5 10  8 21 11  3 10 21  3 18 12 27 10\n",
      "  14  2  4  9 17  2 17  5 15  9  2 25  3 10 11  4  3 10 21  3 18  2 11 20\n",
      "   2 11  4  2 24  3  2  8  5 15 10 14 18 12 34  9  2  7  5 13 13  5 19 13\n",
      "  17  2 25 15]], shape=(1, 100), dtype=int64)\n",
      "tf.Tensor(\n",
      "[[ 7  2 17  5 15  2  7  5 19  2 17  5 15  2  8  7  6 13 13  2  6  9  9  6\n",
      "  11 22 10  2 17  5 15  9  2 21  5 10  8 21 11  3 10 21  3 18 12 27 10 14\n",
      "   2  4  9 17  2 17  5 15  9  2 25  3 10 11  4  3 10 21  3 18  2 11 20  2\n",
      "  11  4  2 24  3  2  8  5 15 10 14 18 12 34  9  2  7  5 13 13  5 19 13 17\n",
      "   2 25 15  4]], shape=(1, 100), dtype=int64)\n"
     ]
    }
   ],
   "source": [
    "path_to_file = tf.keras.utils.get_file('shakespeare.txt', 'https://storage.googleapis.com/download.tensorflow.org/data/shakespeare.txt')\n",
    "text = open(path_to_file, 'rb').read().decode(encoding='utf-8')\n",
    "texts = []\n",
    "step = 101\n",
    "\n",
    "for i in range(0, len(text), step):\n",
    "    t = text[i: i+step]\n",
    "    texts.append(t.strip())\n",
    "\n",
    "context = np.array([t[:-1] for t in texts])\n",
    "target = np.array([t[1:] for t in texts])\n",
    "\n",
    "BUFFER_SIZE = len(texts)\n",
    "BATCH_SIZE = 64 * 3\n",
    "is_train = np.random.uniform(size=(BUFFER_SIZE,)) < 0.8\n",
    "train_raw = tf.data.Dataset.from_tensor_slices((context[is_train],target[is_train])).shuffle(BUFFER_SIZE).batch(BATCH_SIZE)\n",
    "val_raw = tf.data.Dataset.from_tensor_slices((context[~is_train], target[~is_train])).shuffle(BUFFER_SIZE).batch(BATCH_SIZE)\n",
    "\n",
    "def lower_split_util(text):\n",
    "    text = tf_text.normalize_utf8(text, 'NFKD')\n",
    "    return tf.strings.unicode_split(text, 'UTF-8')\n",
    "\n",
    "text_processor = tf.keras.layers.TextVectorization(standardize=lower_split_util, split=None)\n",
    "text_processor.adapt(train_raw.map(lambda context,target:context))\n",
    "\n",
    "def process_train_ds(context, target):\n",
    "    context = text_processor(context)\n",
    "    target = text_processor(target)\n",
    "    return context, target\n",
    "\n",
    "train_ds = train_raw.map(process_train_ds, tf.data.AUTOTUNE)\n",
    "val_ds = val_raw.map(process_train_ds, tf.data.AUTOTUNE)\n",
    "for A,B in train_ds.take(1):\n",
    "    print(A[:1])\n",
    "    print(B[:1])\n",
    "# for context_ex, target_ex in train_ds:\n",
    "#     assert context_ex.shape[1] == target_ex.shape[1]\n",
    "# print(\"success\")"
   ]
  },
  {
   "cell_type": "code",
   "execution_count": null,
   "id": "83107e1d",
   "metadata": {},
   "outputs": [],
   "source": []
  },
  {
   "cell_type": "code",
   "execution_count": 3,
   "id": "ba074195",
   "metadata": {},
   "outputs": [],
   "source": [
    "vocab_size = text_processor.vocabulary_size()\n",
    "embedding_dim = 256\n",
    "rnn_units = 1024\n",
    "\n",
    "class MyModel(tf.keras.Model):\n",
    "    def __init__(self, vocab_size, embedding_dim, rnn_units):\n",
    "        super().__init__(self)\n",
    "        self.embedding = tf.keras.layers.Embedding(vocab_size, embedding_dim)\n",
    "        self.gru = tf.keras.layers.GRU(rnn_units, return_sequences=True, return_state=True)\n",
    "        self.dense = tf.keras.layers.Dense(vocab_size)\n",
    "    \n",
    "    def call(self, inputs, states=None, return_state=False, training=False):\n",
    "        x = inputs\n",
    "        x = self.embedding(x, training=training)\n",
    "        if states is None:\n",
    "            states = self.gru.get_initial_state(x)\n",
    "        x, states = self.gru(x, initial_state=states, training=training)\n",
    "        x = self.dense(x, training=training)\n",
    "        if return_state:\n",
    "            return x, states\n",
    "        else:\n",
    "            return x\n",
    "model = MyModel(vocab_size=vocab_size, embedding_dim=embedding_dim, rnn_units=rnn_units)"
   ]
  },
  {
   "cell_type": "code",
   "execution_count": null,
   "id": "57622c47",
   "metadata": {},
   "outputs": [],
   "source": []
  },
  {
   "cell_type": "code",
   "execution_count": 4,
   "id": "24c09018",
   "metadata": {},
   "outputs": [
    {
     "name": "stdout",
     "output_type": "stream",
     "text": [
      "0.2797765635793423 0.2797765635793423\n"
     ]
    }
   ],
   "source": [
    "y_true = np.array([0, 1, 2])  \n",
    "y_pred = np.array([[0.9, 0.05, 0.05],   \n",
    "                  [0.1, 0.8, 0.1],\n",
    "                  [0.2, 0.2, 0.6]])\n",
    "y_pred_probability = y_pred[np.arange(len(y_true)), y_true]\n",
    "loss = -np.log(y_pred_probability)\n",
    "print(tf.reduce_mean(loss).numpy(), tf.losses.SparseCategoricalCrossentropy(from_logits=False)(y_true, y_pred).numpy())"
   ]
  },
  {
   "cell_type": "code",
   "execution_count": 5,
   "id": "7fbb059c",
   "metadata": {},
   "outputs": [
    {
     "name": "stdout",
     "output_type": "stream",
     "text": [
      "0.5108256237659907 0.5108256237659906\n"
     ]
    }
   ],
   "source": [
    "predictions = np.array([0.1, 0.3, 0.6])\n",
    "true_label = 2\n",
    "predicted_probability = predictions[true_label]\n",
    "loss = -np.log(predicted_probability)\n",
    "print(loss, tf.losses.SparseCategoricalCrossentropy(from_logits=False)(true_label, predictions).numpy() )"
   ]
  },
  {
   "cell_type": "code",
   "execution_count": null,
   "id": "fc0c8be1",
   "metadata": {
    "scrolled": true
   },
   "outputs": [],
   "source": []
  },
  {
   "cell_type": "code",
   "execution_count": 6,
   "id": "f2921080",
   "metadata": {},
   "outputs": [],
   "source": [
    "def plot(history):\n",
    "    loss = history.history['loss']\n",
    "    val_loss = history.history['val_loss']\n",
    "    epochs = range(1, len(loss) + 1)\n",
    "    plt.figure(figsize=(5, 3))\n",
    "    plt.plot(epochs, loss, 'bo-', label='Training loss')\n",
    "    plt.plot(epochs, val_loss, 'ro-', label='Validation loss')\n",
    "    plt.title('Training and Validation Loss')\n",
    "    plt.xlabel('Epochs')\n",
    "    plt.ylabel('Loss')\n",
    "    plt.legend()\n",
    "    plt.show()\n"
   ]
  },
  {
   "cell_type": "code",
   "execution_count": 8,
   "id": "19c1f816",
   "metadata": {
    "scrolled": true
   },
   "outputs": [
    {
     "name": "stdout",
     "output_type": "stream",
     "text": [
      "WARNING:tensorflow:NCCL is not supported when using virtual GPUs, fallingback to reduction to one device\n",
      "INFO:tensorflow:Using MirroredStrategy with devices ('/job:localhost/replica:0/task:0/device:GPU:0', '/job:localhost/replica:0/task:0/device:GPU:1', '/job:localhost/replica:0/task:0/device:GPU:2')\n",
      "可用的分布式训练的 GPU 设备有 3 个\n",
      "Epoch 1/100\n",
      "47/47 [==============================] - 7s 47ms/step - loss: 3.5999 - val_loss: 2.9160\n",
      "Epoch 2/100\n",
      "47/47 [==============================] - 2s 33ms/step - loss: 2.6028 - val_loss: 2.3977\n",
      "Epoch 3/100\n",
      "47/47 [==============================] - 2s 33ms/step - loss: 2.3145 - val_loss: 2.2390\n",
      "Epoch 4/100\n",
      "47/47 [==============================] - 2s 33ms/step - loss: 2.1779 - val_loss: 2.1112\n",
      "Epoch 5/100\n",
      "47/47 [==============================] - 2s 33ms/step - loss: 2.0515 - val_loss: 1.9882\n",
      "Epoch 6/100\n",
      "47/47 [==============================] - 2s 35ms/step - loss: 1.9328 - val_loss: 1.8796\n",
      "Epoch 7/100\n",
      "47/47 [==============================] - 2s 33ms/step - loss: 1.8320 - val_loss: 1.7878\n",
      "Epoch 8/100\n",
      "47/47 [==============================] - 2s 32ms/step - loss: 1.7440 - val_loss: 1.7207\n",
      "Epoch 9/100\n",
      "47/47 [==============================] - 2s 33ms/step - loss: 1.6710 - val_loss: 1.6494\n",
      "Epoch 10/100\n",
      "47/47 [==============================] - 2s 33ms/step - loss: 1.6071 - val_loss: 1.5995\n",
      "Epoch 11/100\n",
      "47/47 [==============================] - 2s 33ms/step - loss: 1.5539 - val_loss: 1.5590\n",
      "Epoch 12/100\n",
      "47/47 [==============================] - 2s 33ms/step - loss: 1.5073 - val_loss: 1.5256\n",
      "Epoch 13/100\n",
      "47/47 [==============================] - 2s 32ms/step - loss: 1.4666 - val_loss: 1.4921\n",
      "Epoch 14/100\n",
      "47/47 [==============================] - 2s 33ms/step - loss: 1.4305 - val_loss: 1.4712\n",
      "Epoch 15/100\n",
      "47/47 [==============================] - 2s 32ms/step - loss: 1.3996 - val_loss: 1.4551\n",
      "Epoch 16/100\n",
      "47/47 [==============================] - 2s 33ms/step - loss: 1.3721 - val_loss: 1.4348\n",
      "Epoch 17/100\n",
      "47/47 [==============================] - 2s 34ms/step - loss: 1.3447 - val_loss: 1.4200\n",
      "Epoch 18/100\n",
      "47/47 [==============================] - 2s 32ms/step - loss: 1.3193 - val_loss: 1.4098\n",
      "Epoch 19/100\n",
      "47/47 [==============================] - 2s 33ms/step - loss: 1.2972 - val_loss: 1.3997\n",
      "Epoch 20/100\n",
      "47/47 [==============================] - 2s 36ms/step - loss: 1.2726 - val_loss: 1.3935\n",
      "Epoch 21/100\n",
      "47/47 [==============================] - 2s 34ms/step - loss: 1.2514 - val_loss: 1.3908\n",
      "Epoch 22/100\n",
      "47/47 [==============================] - 2s 34ms/step - loss: 1.2312 - val_loss: 1.3888\n",
      "Epoch 23/100\n",
      "47/47 [==============================] - 2s 33ms/step - loss: 1.2079 - val_loss: 1.3900\n",
      "Epoch 24/100\n",
      "47/47 [==============================] - 2s 32ms/step - loss: 1.1870 - val_loss: 1.3875\n",
      "Epoch 25/100\n",
      "47/47 [==============================] - 2s 33ms/step - loss: 1.1635 - val_loss: 1.3909\n",
      "Epoch 26/100\n",
      "47/47 [==============================] - 2s 33ms/step - loss: 1.1411 - val_loss: 1.3896\n",
      "Epoch 27/100\n",
      "47/47 [==============================] - 2s 33ms/step - loss: 1.1171 - val_loss: 1.4003\n",
      "Epoch 28/100\n",
      "47/47 [==============================] - 2s 33ms/step - loss: 1.0940 - val_loss: 1.3990\n",
      "Epoch 29/100\n",
      "47/47 [==============================] - 2s 32ms/step - loss: 1.0688 - val_loss: 1.4081\n"
     ]
    },
    {
     "data": {
      "image/png": "[encoded data removed]",
      "text/plain": [
       "<Figure size 500x300 with 1 Axes>"
      ]
     },
     "metadata": {},
     "output_type": "display_data"
    }
   ],
   "source": [
    "strategy = tf.distribute.MirroredStrategy()\n",
    "print(f\"可用的分布式训练的 GPU 设备有 {strategy.num_replicas_in_sync} 个\")\n",
    "loss = tf.losses.SparseCategoricalCrossentropy(from_logits=True)   # 一开始近似等于 -np.log(1/5000)\n",
    "optimizer = tf.optimizers.Adam()\n",
    "checkpoint_callback = tf.keras.callbacks.ModelCheckpoint(filepath=os.path.join('./traning_checkpoints', \"ckpt_{epoch}\"), save_weights_only=True)\n",
    "early = tf.keras.callbacks.EarlyStopping(patience=5, monitor='val_loss')\n",
    "with strategy.scope():\n",
    "    model = MyModel(vocab_size=vocab_size, embedding_dim=embedding_dim, rnn_units=rnn_units)\n",
    "    model.compile(loss=loss, optimizer=optimizer)\n",
    "    history = model.fit(train_ds, epochs=100, validation_data=val_ds, callbacks=[checkpoint_callback, early])\n",
    "    plot(history)"
   ]
  },
  {
   "cell_type": "code",
   "execution_count": 9,
   "id": "954c27a1",
   "metadata": {
    "scrolled": true
   },
   "outputs": [
    {
     "name": "stdout",
     "output_type": "stream",
     "text": [
      "tf.Tensor([b'ROMEO:\\nWho apprehating is not Thoicio?\\nSir, heaven you forgot by that ranso hit galls.\\nHe was my soal with'], shape=(1,), dtype=string) \n",
      " 0.6504983901977539\n"
     ]
    }
   ],
   "source": [
    "class OneStep(tf.keras.Model):\n",
    "    def __init__(self, model, text_processor, temperature=1.0):\n",
    "        super().__init__()\n",
    "        self.text_processor = text_processor\n",
    "        self.word_to_id = tf.keras.layers.StringLookup(vocabulary=text_processor.get_vocabulary(),  mask_token='', oov_token='[UNK]', )\n",
    "        self.id_to_word = tf.keras.layers.StringLookup(vocabulary=text_processor.get_vocabulary(),  mask_token='', oov_token='[UNK]',invert=True)\n",
    "        self.temperature = temperature\n",
    "        self.model = model\n",
    "        \n",
    "        skip_ids = self.word_to_id(['[UNK]'])[:, None]\n",
    "        sparse_mask = tf.SparseTensor(values = [-float('inf')] * len(skip_ids), indices=skip_ids, dense_shape=[len(self.word_to_id.get_vocabulary())])\n",
    "        self.prediction_mask = tf.sparse.to_dense(sparse_mask)\n",
    "    \n",
    "    @tf.function\n",
    "    def generate_one_step(self, inputs, states=None):\n",
    "        input_chars = tf.strings.unicode_split(inputs, 'UTF-8')\n",
    "        input_ids = self.word_to_id(input_chars).to_tensor()\n",
    "        predicted_logits, states = self.model(inputs=input_ids, states=states, return_state=True)  # (1, None, 67)\n",
    "        predicted_logits = predicted_logits[:, -1, :] / self.temperature + self.prediction_mask  # (1, 67)\n",
    "        predicted_ids = tf.random.categorical(predicted_logits, num_samples=1) # (1, 1)\n",
    "        predicted_ids = tf.squeeze(predicted_ids, axis=-1)  # (1)\n",
    "        predicted_chars = self.id_to_word(predicted_ids)\n",
    "        return predicted_chars, states\n",
    "\n",
    "one_step_model = OneStep(model, text_processor)\n",
    "start = time.time()\n",
    "states = None\n",
    "next_char = tf.constant(['ROMEO:'])\n",
    "result = [next_char]\n",
    "for n in range(100):\n",
    "    next_char, states = one_step_model.generate_one_step(inputs=next_char, states=states)\n",
    "    result.append(next_char)\n",
    "result = tf.strings.join(result)\n",
    "end = time.time()\n",
    "print(result,'\\n' ,end-start)"
   ]
  },
  {
   "cell_type": "markdown",
   "id": "8e6fd345",
   "metadata": {},
   "source": [
    "在自然语言处理和生成任务中，如使用GPT-3或GPT-4模型生成文本时，**temperature** 是一个重要的参数，它控制生成文本的随机性和多样性。\n",
    "\n",
    "### 作用与原理\n",
    "\n",
    "- **温度 (temperature)** 是用于调整模型生成的概率分布的参数。它在生成下一个词时影响选择词的概率。\n",
    "- **公式**: 在技术上，temperature 调整 softmax 函数的输入。具体来说，如果`logits`表示模型预测的每个词的对数概率，temperature调整后的对数概率为`logits / temperature`。\n",
    "\n",
    "### 温度的影响\n",
    "\n",
    "1. **高温度** (>1.0)\n",
    "   - 增加随机性。\n",
    "   - 使模型更有可能选择低概率词汇。\n",
    "   - 结果更有创意和多样性，但可能更不相关或不连贯。\n",
    "   - 适用于需要创造力和非结构化输出的场景，如故事生成、诗歌写作。\n",
    "\n",
    "2. **低温度** (<1.0)\n",
    "   - 减少随机性。\n",
    "   - 模型更倾向于选择高概率词汇。\n",
    "   - 结果更确定、连贯，但可能缺乏多样性和新意。\n",
    "   - 适用于需要确定性和结构化的输出场景，如技术文档生成、简洁回答。\n",
    "\n",
    "3. **温度为1.0**\n",
    "   - 模型输出与概率分布直接相关。\n",
    "   - 不调整生成概率的随机性。\n",
    "\n",
    "### 示例\n",
    "假设我们用模型生成一个句子，使用不同的 temperature 会导致不同的结果。\n",
    "\n",
    "- **Temperature = 0.7**: \n",
    "  - \"The cat sat on the mat.\"\n",
    "  - 更连贯，选择更确定的词。\n",
    "\n",
    "- **Temperature = 1.0**:\n",
    "  - \"The cat perched on the sunny mat.\"\n",
    "  - 具有适度的随机性和创造性。\n",
    "\n",
    "- **Temperature = 1.5**:\n",
    "  - \"A curious feline leaped onto a vibrant rug.\"\n",
    "  - 更具创意和变化，但可能不太连贯。\n",
    " "
   ]
  },
  {
   "cell_type": "code",
   "execution_count": null,
   "id": "d469f0da",
   "metadata": {},
   "outputs": [],
   "source": []
  },
  {
   "cell_type": "code",
   "execution_count": null,
   "id": "878c1a59",
   "metadata": {},
   "outputs": [],
   "source": []
  },
  {
   "cell_type": "code",
   "execution_count": null,
   "id": "ed161c83",
   "metadata": {},
   "outputs": [],
   "source": []
  }
 ],
 "metadata": {
  "kernelspec": {
   "display_name": "tf-gpu-2.10.0-py-3.10",
   "language": "python",
   "name": "tf-gpu-2.10.0-py-3.10"
  },
  "language_info": {
   "codemirror_mode": {
    "name": "ipython",
    "version": 3
   },
   "file_extension": ".py",
   "mimetype": "text/x-python",
   "name": "python",
   "nbconvert_exporter": "python",
   "pygments_lexer": "ipython3",
   "version": "3.10.9"
  }
 },
 "nbformat": 4,
 "nbformat_minor": 5
}
