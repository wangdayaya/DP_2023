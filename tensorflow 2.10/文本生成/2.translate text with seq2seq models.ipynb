{
 "cells": [
  {
   "cell_type": "code",
   "execution_count": 2,
   "id": "6b805584",
   "metadata": {},
   "outputs": [],
   "source": [
    "import numpy as np\n",
    "import einops\n",
    "import tensorflow as tf\n",
    "import tensorflow_text as tf_text\n",
    "import tensorflow as tf\n",
    "gpu_list = tf.config.experimental.list_physical_devices('GPU')\n",
    "if len(gpu_list) > 0:\n",
    "    for gpu in gpu_list:\n",
    "        try:\n",
    "            tf.config.experimental.set_memory_growth(gpu, True)\n",
    "        except RuntimeError as e:\n",
    "            print(e) \n",
    "else:\n",
    "    print(\"Got no gpus\")"
   ]
  },
  {
   "cell_type": "code",
   "execution_count": 4,
   "id": "a63cd073",
   "metadata": {},
   "outputs": [
    {
     "name": "stdout",
     "output_type": "stream",
     "text": [
      "True\n",
      "If you want to sound like a native speaker, you must be willing to practice saying the same sentence over and over in the same way that banjo players practice the same phrase over and over until they can play it correctly and at the desired tempo. || Si quieres sonar como un hablante nativo, debes estar dispuesto a practicar diciendo la misma frase una y otra vez de la misma manera en que un músico de banjo practica el mismo fraseo una y otra vez hasta que lo puedan tocar correctamente y en el tiempo esperado.\n"
     ]
    }
   ],
   "source": [
    "import pathlib\n",
    "\n",
    "path_to_zip = tf.keras.utils.get_file( 'spa-eng.zip', origin='http://storage.googleapis.com/download.tensorflow.org/data/spa-eng.zip',extract=True)\n",
    "path_to_file = pathlib.Path(path_to_zip).parent/'spa-eng/spa.txt'\n",
    "def load_data(path):\n",
    "    text = path.read_text(encoding='utf-8')\n",
    "    lines = text.splitlines()\n",
    "    pairs = [line.split('\\t') for line in lines]\n",
    "    context = np.array([context for target, context in pairs])\n",
    "    target = np.array([target for target, context in pairs])\n",
    "    return target, context\n",
    "target_raw, context_raw = load_data(path_to_file)\n",
    "print(len(target_raw) == len(context_raw))\n",
    "print(target_raw[-1],\"||\",context_raw[-1])"
   ]
  },
  {
   "cell_type": "code",
   "execution_count": 6,
   "id": "ae508d10",
   "metadata": {},
   "outputs": [
    {
     "name": "stdout",
     "output_type": "stream",
     "text": [
      "tf.Tensor(\n",
      "[b'Tom y Mar\\xc3\\xada quer\\xc3\\xadan hablar sobre los viejos tiempos.'\n",
      " b'Su falda est\\xc3\\xa1 totalmente fuera de moda.'\n",
      " b'Volver\\xc3\\xa9 m\\xc3\\xa1s tarde.'\n",
      " b'S\\xc3\\xa9 que es dif\\xc3\\xadcil de creer.'\n",
      " b'Puedo repetirlo una y otra vez.'], shape=(5,), dtype=string)\n",
      "tf.Tensor(\n",
      "[b'Tom and Mary wanted to talk about old times.'\n",
      " b'Her skirt is totally out of fashion.' b\"I'll come back later.\"\n",
      " b\"I know it's difficult to believe.\" b'I can repeat it again and again.'], shape=(5,), dtype=string)\n"
     ]
    }
   ],
   "source": [
    "BUFFER_SIZE = len(context_raw)\n",
    "BATCH_SIZE = 64\n",
    "is_train = np.random.uniform(size=(BUFFER_SIZE,)) < 0.8\n",
    "train_raw = tf.data.Dataset.from_tensor_slices((context_raw[is_train], target_raw[is_train])).shuffle(BUFFER_SIZE).batch(BATCH_SIZE)\n",
    "val_raw = tf.data.Dataset.from_tensor_slices((context_raw[~is_train], target_raw[~is_train])).shuffle(BUFFER_SIZE).batch(BATCH_SIZE)\n",
    "for example_context_strings, example_target_strings in train_raw.take(1):\n",
    "    print(example_context_strings[:5])\n",
    "    print(example_target_strings[:5])"
   ]
  },
  {
   "cell_type": "code",
   "execution_count": 8,
   "id": "d3038f89",
   "metadata": {},
   "outputs": [],
   "source": [
    "def tf_lower_and_split_punct(text):\n",
    "    text = tf_text.normalize_utf8(text, 'NFKD')\n",
    "    text = tf.strings.lower(text)\n",
    "    text = tf.strings.regex_replace(text, '[^ a-z.?!,¿]', '')\n",
    "    text = tf.strings.regex_replace(text, '[.?!,¿]', r' \\0 ')\n",
    "    text = tf.strings.strip(text)\n",
    "    text = tf.strings.join(['[START]', text, '[END]'], separator=' ')\n",
    "    return text\n",
    "\n",
    "max_vocab_size = 5000\n",
    "context_text_processor = tf.keras.layers.TextVectorization(standardize=tf_lower_and_split_punct, max_tokens=max_vocab_size, ragged=True)\n",
    "context_text_processor.adapt(train_raw.map(lambda context, target:context))\n",
    "\n",
    "target_text_processor = tf.keras.layers.TextVectorization(standardize=tf_lower_and_split_punct, max_tokens=max_vocab_size, ragged=True)\n",
    "target_text_processor.adapt(train_raw.map(lambda context, target:target))"
   ]
  },
  {
   "cell_type": "code",
   "execution_count": 10,
   "id": "109bcc8d",
   "metadata": {},
   "outputs": [
    {
     "name": "stdout",
     "output_type": "stream",
     "text": [
      "tf.Tensor([   2    7   15    7 1993    6   16  588    4    3], shape=(10,), dtype=int64)\n",
      "tf.Tensor([   2  126    5 1757   15   10  646    4    0    0], shape=(10,), dtype=int64)\n",
      "tf.Tensor([ 126    5 1757   15   10  646    4    3    0    0], shape=(10,), dtype=int64)\n"
     ]
    }
   ],
   "source": [
    "def process_text(context, target):\n",
    "    context = context_text_processor(context).to_tensor()\n",
    "    target = target_text_processor(target)\n",
    "    target_in = target[:, :-1].to_tensor()\n",
    "    target_ou = target[:, 1:].to_tensor()\n",
    "    return (context, target_in), target_ou\n",
    "\n",
    "train_ds = train_raw.map(process_text,  tf.data.AUTOTUNE)\n",
    "val_ds = val_raw.map(process_text, tf.data.AUTOTUNE)\n",
    "\n",
    "for (A,B),C in train_ds.take(1):\n",
    "    print(A[0, :10])\n",
    "    print(B[0, :10])\n",
    "    print(C[0, :10])"
   ]
  },
  {
   "cell_type": "code",
   "execution_count": null,
   "id": "f73f1b22",
   "metadata": {},
   "outputs": [],
   "source": []
  },
  {
   "cell_type": "code",
   "execution_count": 15,
   "id": "0f17e225",
   "metadata": {},
   "outputs": [],
   "source": [
    "UNITS = 516\n",
    "class Encoder(tf.keras.layers.Layer):\n",
    "    def __init__(self, text_processor, units):\n",
    "        super(Encoder, self).__init__()\n",
    "        self.text_processor = text_processor\n",
    "        self.vocab_size = text_processor.vocabulary_size()\n",
    "        self.units = units\n",
    "        self.embedding = tf.keras.layers.Embedding(self.vocab_size, units, mask_zero=True)\n",
    "        self.rnn = tf.keras.layers.Bidirectional(merge_mode='sum', layer=tf.keras.layers.GRU(units, return_sequences=True, recurrent_initializer='glorot_uniform'))\n",
    "    \n",
    "    def call(self, x):\n",
    "        x = self.embedding(x)\n",
    "        x = self.rnn(x)\n",
    "        return x\n",
    "    \n",
    "    def convert_input(self, texts):\n",
    "        texts = tf.convert_to_tensor(texts)\n",
    "        if len(texts.shape) == 0:\n",
    "            texts = tf.convert_to_tensor(texts)[tf.newaxis]\n",
    "        context = self.text_processor(texts).to_tensor()\n",
    "        context = self(context)\n",
    "        return context\n",
    "        "
   ]
  },
  {
   "cell_type": "code",
   "execution_count": 17,
   "id": "ed63aedd",
   "metadata": {},
   "outputs": [],
   "source": [
    "class CrossAttention(tf.keras.layers.Layer):\n",
    "    def __init__(self, units, **kwargs):\n",
    "        super().__init__()\n",
    "        self.mha = tf.keras.layers.MultiHeadAttention(key_dim=units, num_heads=5, **kwargs)\n",
    "        self.layernorm = tf.keras.layers.LayerNormalization()\n",
    "        self.add = tf.keras.layers.Add()\n",
    "\n",
    "    def call(self, x, context):\n",
    "        attn_ouput, attn_scores = self.mha(query=x, value=context, return_attention_scores=True)\n",
    "        attn_scores = tf.reduce_mean(attn_scores, axis=1)\n",
    "        self.last_attention_weights = attn_scores\n",
    "        x = self.add([x, attn_ouput])\n",
    "        x = self.layernorm(x)\n",
    "        return x"
   ]
  },
  {
   "cell_type": "code",
   "execution_count": 19,
   "id": "807a6bd4",
   "metadata": {},
   "outputs": [],
   "source": [
    "class Decoder(tf.keras.layers.Layer):\n",
    "    def __init__(self, text_processor, units):\n",
    "        super(Decoder, self).__init__()\n",
    "        self.text_processor = text_processor\n",
    "        self.vocab_size = text_processor.vocabulary_size()\n",
    "        self.word_to_id = tf.keras.layers.StringLookup(vocabulary=text_processor.get_vocabulary(), mask_token='', oov_token='[UNK]')\n",
    "        self.id_to_word = tf.keras.layers.StringLookup(vocabulary=text_processor.get_vocabulary(), mask_token='', oov_token='[UNK]', invert=True)\n",
    "        self.start_token = self.word_to_id('[START]')\n",
    "        self.end_token = self.word_to_id('[END]')\n",
    "        self.units = units\n",
    "        self.embedding = tf.keras.layers.Embedding(self.vocab_size, units, mask_zero=True)\n",
    "        self.rnn = tf.keras.layers.GRU(units, return_sequences=True, return_state=True, recurrent_initializer='glorot_uniform')\n",
    "        self.attention = CrossAttention(units)\n",
    "        self.output_layer = tf.keras.layers.Dense(self.vocab_size)\n",
    "        \n",
    "    def call(self, context, x, state=None, return_state=False):\n",
    "        x = self.embedding(x)\n",
    "        x, state = self.rnn(x, initial_state=state)\n",
    "        x = self.attention(x, context)\n",
    "        self.last_attention_weights = self.attention.last_attention_weights\n",
    "        logits = self.output_layer(x)\n",
    "        if return_state:\n",
    "            return logits, state\n",
    "        return logits\n",
    "    \n",
    "    def get_initial_state(self, context):\n",
    "        batch_size = tf.shape(context)[0]\n",
    "        start_tokens = tf.fill([batch_size, 1], self.start_token)\n",
    "        done = tf.zeros([batch_size, 1], dtype=tf.bool)\n",
    "        embedded = self.embedding(start_tokens)\n",
    "        return start_tokens, done, self.rnn.get_initial_state(embedded)[0]  # [batch_size, units]\n",
    "    \n",
    "    def tokens_to_text(self, tokens):\n",
    "        words = self.id_to_word(tokens)\n",
    "        result = tf.strings.reduce_join(words, axis=-1, separator=' ')\n",
    "        result = tf.strings.regex_replace(result, '^ *\\[START\\] *', '')\n",
    "        result = tf.strings.regex_replace(result, ' *\\[END\\] *$', '')\n",
    "        return result\n",
    "    \n",
    "    def get_next_token(self, context, next_token, done, state,temperature=0.0):\n",
    "        logits, state = self(context, next_token, state=state, return_state=True)\n",
    "        if temperature == 0.0:\n",
    "            next_token = tf.argmax(logits, axis=-1)\n",
    "        else:\n",
    "            logits = logits[:, -1, :]/temperature\n",
    "            next_token = tf.random.categorical(logits, num_samples=1)\n",
    "        done |= (next_token == self.end_token)\n",
    "        next_token = tf.where(done, tf.constant(0, dtype=tf.int64), next_token)\n",
    "        return next_token, done, state"
   ]
  },
  {
   "cell_type": "code",
   "execution_count": 21,
   "id": "ce7e77d2",
   "metadata": {},
   "outputs": [],
   "source": [
    "class Translator(tf.keras.Model):\n",
    "    def __init__(self, units, context_text_processor, target_text_processor):\n",
    "        super().__init__()\n",
    "        self.encoder = Encoder(context_text_processor, units)\n",
    "        self.decoder = Decoder(target_text_processor, units)\n",
    "    \n",
    "    def call(self, inputs):\n",
    "        context, x = inputs\n",
    "        context = self.encoder(context)\n",
    "        logits = self.decoder(context, x)\n",
    "        try:\n",
    "            del logits._keras_mask\n",
    "        except AttributeError:\n",
    "            pass\n",
    "        return logits\n",
    "    \n",
    "    def translate(self, texts, max_length=500, temperature=tf.constant(0.0)):\n",
    "        context = self.encoder.convert_input(texts)\n",
    "        next_token, done, state = self.decoder.get_initial_state(context)\n",
    "        tokens = tf.TensorArray(tf.int64, size=1, dynamic_size=True)\n",
    "        for t in tf.range(max_length):\n",
    "            next_token, done, state = self.decoder.get_next_token(context, next_token, done, state, temperature)\n",
    "            tokens = tokens.write(t, next_token)\n",
    "            if tf.reduce_all(done):\n",
    "                break\n",
    "        tokens = tokens.stack()\n",
    "        tokens = einops.rearrange(tokens, 't batch 1 -> batch t')\n",
    "        text = self.decoder.tokens_to_text(tokens)\n",
    "        return text"
   ]
  },
  {
   "cell_type": "code",
   "execution_count": 23,
   "id": "bb036021",
   "metadata": {},
   "outputs": [],
   "source": [
    "def masked_loss(y_true, y_pred):\n",
    "    loss_fn = tf.keras.losses.SparseCategoricalCrossentropy(from_logits=True, reduction='none')\n",
    "    loss = loss_fn(y_true, y_pred)\n",
    "    mask = tf.cast(y_true!=0, dtype=loss.dtype)\n",
    "    loss *= mask\n",
    "    return tf.reduce_sum(loss) / tf.reduce_sum(mask)\n",
    "\n",
    "def masked_acc(y_true, y_pred):\n",
    "    y_pred = tf.argmax(y_pred, axis=-1)\n",
    "    y_pred = tf.cast(y_pred, y_true.dtype)\n",
    "    match = tf.cast(y_true == y_pred, tf.float32)\n",
    "    mask = tf.cast(y_true !=0 ,tf.float32)\n",
    "    return tf.reduce_sum(match) / tf.reduce_sum(mask)"
   ]
  },
  {
   "cell_type": "code",
   "execution_count": null,
   "id": "8d08965b",
   "metadata": {
    "scrolled": true
   },
   "outputs": [
    {
     "name": "stdout",
     "output_type": "stream",
     "text": [
      "Epoch 1/100\n",
      "100/100 [==============================] - 13s 33ms/step - loss: 4.8057 - masked_acc: 0.2978 - masked_loss: 4.8057 - val_loss: 3.9190 - val_masked_acc: 0.3697 - val_masked_loss: 3.9190\n",
      "Epoch 2/100\n",
      "100/100 [==============================] - 2s 16ms/step - loss: 3.4371 - masked_acc: 0.4374 - masked_loss: 3.4371 - val_loss: 3.0958 - val_masked_acc: 0.4822 - val_masked_loss: 3.0958\n",
      "Epoch 3/100\n",
      "100/100 [==============================] - 2s 17ms/step - loss: 2.8341 - masked_acc: 0.5183 - masked_loss: 2.8341 - val_loss: 2.5686 - val_masked_acc: 0.5535 - val_masked_loss: 2.5686\n",
      "Epoch 4/100\n",
      "100/100 [==============================] - 2s 16ms/step - loss: 2.4274 - masked_acc: 0.5784 - masked_loss: 2.4274 - val_loss: 2.2140 - val_masked_acc: 0.6006 - val_masked_loss: 2.2140\n",
      "Epoch 5/100\n",
      "100/100 [==============================] - 2s 17ms/step - loss: 2.1131 - masked_acc: 0.6246 - masked_loss: 2.1131 - val_loss: 2.0393 - val_masked_acc: 0.6345 - val_masked_loss: 2.0393\n",
      "Epoch 6/100\n",
      "100/100 [==============================] - 2s 17ms/step - loss: 1.9543 - masked_acc: 0.6461 - masked_loss: 1.9543 - val_loss: 1.9007 - val_masked_acc: 0.6502 - val_masked_loss: 1.9007\n",
      "Epoch 7/100\n",
      "100/100 [==============================] - 2s 16ms/step - loss: 1.8076 - masked_acc: 0.6649 - masked_loss: 1.8076 - val_loss: 1.7711 - val_masked_acc: 0.6579 - val_masked_loss: 1.7711\n",
      "Epoch 8/100\n",
      "100/100 [==============================] - 2s 16ms/step - loss: 1.7222 - masked_acc: 0.6788 - masked_loss: 1.7222 - val_loss: 1.6842 - val_masked_acc: 0.6759 - val_masked_loss: 1.6842\n",
      "Epoch 9/100\n",
      "100/100 [==============================] - 2s 16ms/step - loss: 1.6161 - masked_acc: 0.6906 - masked_loss: 1.6161 - val_loss: 1.5478 - val_masked_acc: 0.7071 - val_masked_loss: 1.5478\n",
      "Epoch 10/100\n",
      "100/100 [==============================] - 2s 16ms/step - loss: 1.5469 - masked_acc: 0.7013 - masked_loss: 1.5469 - val_loss: 1.5372 - val_masked_acc: 0.6976 - val_masked_loss: 1.5372\n",
      "Epoch 11/100\n",
      "100/100 [==============================] - 2s 17ms/step - loss: 1.5213 - masked_acc: 0.6994 - masked_loss: 1.5213 - val_loss: 1.5132 - val_masked_acc: 0.7010 - val_masked_loss: 1.5132\n",
      "Epoch 12/100\n",
      "100/100 [==============================] - 2s 16ms/step - loss: 1.4811 - masked_acc: 0.7086 - masked_loss: 1.4811 - val_loss: 1.4496 - val_masked_acc: 0.7100 - val_masked_loss: 1.4496\n",
      "Epoch 13/100\n",
      "100/100 [==============================] - 2s 17ms/step - loss: 1.4108 - masked_acc: 0.7189 - masked_loss: 1.4108 - val_loss: 1.4588 - val_masked_acc: 0.7128 - val_masked_loss: 1.4588\n",
      "Epoch 14/100\n",
      " 60/100 [=================>............] - ETA: 0s - loss: 1.4214 - masked_acc: 0.7185 - masked_loss: 1.4214"
     ]
    }
   ],
   "source": [
    "model = Translator(UNITS, context_text_processor, target_text_processor)\n",
    "model.compile(optimizer='adam', loss=masked_loss, metrics=[masked_acc, masked_loss])\n",
    "history = model.fit(train_ds.repeat(), epochs=100, steps_per_epoch=100, validation_data=val_ds, validation_steps=20, callbacks=[tf.keras.callbacks.EarlyStopping(patience=5)])"
   ]
  },
  {
   "cell_type": "code",
   "execution_count": null,
   "id": "a61b7289",
   "metadata": {},
   "outputs": [],
   "source": [
    "inputs = [\n",
    "    'Hace mucho frio aqui.', # \"It's really cold here.\"\n",
    "    'Esta es mi vida.', # \"This is my life.\"\n",
    "    'Su cuarto es un desastre.' # \"His room is a mess\"\n",
    "]\n",
    "result = model.translate(inputs)\n",
    "print(result)"
   ]
  },
  {
   "cell_type": "code",
   "execution_count": null,
   "id": "9323e9bd",
   "metadata": {},
   "outputs": [],
   "source": []
  },
  {
   "cell_type": "code",
   "execution_count": null,
   "id": "e237076b",
   "metadata": {},
   "outputs": [],
   "source": []
  },
  {
   "cell_type": "code",
   "execution_count": null,
   "id": "75b05fa7",
   "metadata": {},
   "outputs": [],
   "source": []
  },
  {
   "cell_type": "code",
   "execution_count": null,
   "id": "2167ba5d",
   "metadata": {},
   "outputs": [],
   "source": []
  },
  {
   "cell_type": "code",
   "execution_count": null,
   "id": "4de6cd08",
   "metadata": {},
   "outputs": [],
   "source": []
  },
  {
   "cell_type": "code",
   "execution_count": null,
   "id": "ffcb9abf",
   "metadata": {},
   "outputs": [],
   "source": []
  },
  {
   "cell_type": "code",
   "execution_count": null,
   "id": "a17705fb",
   "metadata": {},
   "outputs": [],
   "source": []
  },
  {
   "cell_type": "code",
   "execution_count": null,
   "id": "2e7d520f",
   "metadata": {},
   "outputs": [],
   "source": []
  },
  {
   "cell_type": "code",
   "execution_count": null,
   "id": "8e815676",
   "metadata": {},
   "outputs": [],
   "source": []
  },
  {
   "cell_type": "code",
   "execution_count": null,
   "id": "e601c867",
   "metadata": {},
   "outputs": [],
   "source": []
  },
  {
   "cell_type": "code",
   "execution_count": null,
   "id": "e1bddadc",
   "metadata": {},
   "outputs": [],
   "source": []
  },
  {
   "cell_type": "code",
   "execution_count": null,
   "id": "82c7e825",
   "metadata": {},
   "outputs": [],
   "source": []
  },
  {
   "cell_type": "code",
   "execution_count": null,
   "id": "d7d2dc36",
   "metadata": {},
   "outputs": [],
   "source": []
  },
  {
   "cell_type": "code",
   "execution_count": null,
   "id": "0a5d24fa",
   "metadata": {},
   "outputs": [],
   "source": []
  },
  {
   "cell_type": "code",
   "execution_count": null,
   "id": "38c00f4b",
   "metadata": {},
   "outputs": [],
   "source": []
  },
  {
   "cell_type": "code",
   "execution_count": null,
   "id": "d6b409bc",
   "metadata": {},
   "outputs": [],
   "source": []
  },
  {
   "cell_type": "code",
   "execution_count": null,
   "id": "a231821c",
   "metadata": {},
   "outputs": [],
   "source": []
  },
  {
   "cell_type": "code",
   "execution_count": null,
   "id": "8d91fcc4",
   "metadata": {},
   "outputs": [],
   "source": []
  },
  {
   "cell_type": "code",
   "execution_count": null,
   "id": "52d185da",
   "metadata": {},
   "outputs": [],
   "source": []
  },
  {
   "cell_type": "code",
   "execution_count": null,
   "id": "9036b8ef",
   "metadata": {},
   "outputs": [],
   "source": []
  },
  {
   "cell_type": "code",
   "execution_count": null,
   "id": "d9d91aeb",
   "metadata": {},
   "outputs": [],
   "source": []
  },
  {
   "cell_type": "code",
   "execution_count": null,
   "id": "6366bfd0",
   "metadata": {},
   "outputs": [],
   "source": []
  },
  {
   "cell_type": "code",
   "execution_count": null,
   "id": "b8fd8a1b",
   "metadata": {},
   "outputs": [],
   "source": []
  },
  {
   "cell_type": "code",
   "execution_count": null,
   "id": "6c1a63f4",
   "metadata": {},
   "outputs": [],
   "source": []
  },
  {
   "cell_type": "code",
   "execution_count": null,
   "id": "6bb8b7a2",
   "metadata": {},
   "outputs": [],
   "source": [
    "\n"
   ]
  }
 ],
 "metadata": {
  "kernelspec": {
   "display_name": "tf-gpu-2.10.0-py-3.10",
   "language": "python",
   "name": "tf-gpu-2.10.0-py-3.10"
  },
  "language_info": {
   "codemirror_mode": {
    "name": "ipython",
    "version": 3
   },
   "file_extension": ".py",
   "mimetype": "text/x-python",
   "name": "python",
   "nbconvert_exporter": "python",
   "pygments_lexer": "ipython3",
   "version": "3.10.9"
  }
 },
 "nbformat": 4,
 "nbformat_minor": 5
}
